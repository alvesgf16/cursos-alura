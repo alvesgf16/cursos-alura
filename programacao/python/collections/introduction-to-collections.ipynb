{
 "cells": [
  {
   "cell_type": "code",
   "execution_count": 1,
   "metadata": {},
   "outputs": [
    {
     "name": "stdout",
     "output_type": "stream",
     "text": [
      "39\n",
      "30\n",
      "27\n",
      "18\n"
     ]
    }
   ],
   "source": [
    "age1 = 39\n",
    "age2 = 30\n",
    "age3 = 27\n",
    "age4 = 18\n",
    "\n",
    "print(age1)\n",
    "print(age2)\n",
    "print(age3)\n",
    "print(age4)"
   ]
  },
  {
   "cell_type": "code",
   "execution_count": 2,
   "metadata": {},
   "outputs": [],
   "source": [
    "ages = [39, 30, 27, 18]"
   ]
  },
  {
   "cell_type": "code",
   "execution_count": 3,
   "metadata": {},
   "outputs": [
    {
     "data": {
      "text/plain": [
       "list"
      ]
     },
     "execution_count": 3,
     "metadata": {},
     "output_type": "execute_result"
    }
   ],
   "source": [
    "type(ages)"
   ]
  },
  {
   "cell_type": "code",
   "execution_count": 4,
   "metadata": {},
   "outputs": [
    {
     "data": {
      "text/plain": [
       "4"
      ]
     },
     "execution_count": 4,
     "metadata": {},
     "output_type": "execute_result"
    }
   ],
   "source": [
    "len(ages)"
   ]
  },
  {
   "cell_type": "code",
   "execution_count": 5,
   "metadata": {},
   "outputs": [
    {
     "data": {
      "text/plain": [
       "39"
      ]
     },
     "execution_count": 5,
     "metadata": {},
     "output_type": "execute_result"
    }
   ],
   "source": [
    "ages[0]"
   ]
  },
  {
   "cell_type": "code",
   "execution_count": 6,
   "metadata": {},
   "outputs": [
    {
     "data": {
      "text/plain": [
       "[39, 30, 27, 18]"
      ]
     },
     "execution_count": 6,
     "metadata": {},
     "output_type": "execute_result"
    }
   ],
   "source": [
    "ages"
   ]
  },
  {
   "cell_type": "code",
   "execution_count": 7,
   "metadata": {},
   "outputs": [
    {
     "name": "stdout",
     "output_type": "stream",
     "text": [
      "30\n",
      "27\n",
      "18\n"
     ]
    }
   ],
   "source": [
    "print(ages[1])\n",
    "print(ages[2])\n",
    "print(ages[3])"
   ]
  },
  {
   "cell_type": "code",
   "execution_count": 8,
   "metadata": {},
   "outputs": [],
   "source": [
    "ages.append(15)"
   ]
  },
  {
   "cell_type": "code",
   "execution_count": 9,
   "metadata": {},
   "outputs": [
    {
     "data": {
      "text/plain": [
       "[39, 30, 27, 18, 15]"
      ]
     },
     "execution_count": 9,
     "metadata": {},
     "output_type": "execute_result"
    }
   ],
   "source": [
    "ages"
   ]
  },
  {
   "cell_type": "code",
   "execution_count": 10,
   "metadata": {},
   "outputs": [
    {
     "data": {
      "text/plain": [
       "15"
      ]
     },
     "execution_count": 10,
     "metadata": {},
     "output_type": "execute_result"
    }
   ],
   "source": [
    "ages[4]"
   ]
  },
  {
   "cell_type": "code",
   "execution_count": 11,
   "metadata": {},
   "outputs": [
    {
     "ename": "IndexError",
     "evalue": "list index out of range",
     "output_type": "error",
     "traceback": [
      "\u001b[0;31m---------------------------------------------------------------------------\u001b[0m",
      "\u001b[0;31mIndexError\u001b[0m                                Traceback (most recent call last)",
      "\u001b[1;32m/home/alvesgf16/it/alura/cursos/programacao/python/collections/introduction-to-collections.ipynb Cell 12\u001b[0m in \u001b[0;36m<cell line: 1>\u001b[0;34m()\u001b[0m\n\u001b[0;32m----> <a href='vscode-notebook-cell:/home/alvesgf16/it/alura/cursos/programacao/python/collections/introduction-to-collections.ipynb#X14sZmlsZQ%3D%3D?line=0'>1</a>\u001b[0m ages[\u001b[39m5\u001b[39;49m]\n",
      "\u001b[0;31mIndexError\u001b[0m: list index out of range"
     ]
    }
   ],
   "source": [
    "ages[5]"
   ]
  },
  {
   "cell_type": "code",
   "execution_count": 12,
   "metadata": {},
   "outputs": [
    {
     "name": "stdout",
     "output_type": "stream",
     "text": [
      "39\n",
      "30\n",
      "27\n",
      "18\n",
      "15\n"
     ]
    }
   ],
   "source": [
    "for age in ages:\n",
    "    print(age)"
   ]
  },
  {
   "cell_type": "code",
   "execution_count": 13,
   "metadata": {},
   "outputs": [],
   "source": [
    "ages.remove(30)"
   ]
  },
  {
   "cell_type": "code",
   "execution_count": 14,
   "metadata": {},
   "outputs": [
    {
     "data": {
      "text/plain": [
       "[39, 27, 18, 15]"
      ]
     },
     "execution_count": 14,
     "metadata": {},
     "output_type": "execute_result"
    }
   ],
   "source": [
    "ages"
   ]
  },
  {
   "cell_type": "code",
   "execution_count": 15,
   "metadata": {},
   "outputs": [
    {
     "ename": "ValueError",
     "evalue": "list.remove(x): x not in list",
     "output_type": "error",
     "traceback": [
      "\u001b[0;31m---------------------------------------------------------------------------\u001b[0m",
      "\u001b[0;31mValueError\u001b[0m                                Traceback (most recent call last)",
      "\u001b[1;32m/home/alvesgf16/it/alura/cursos/programacao/python/collections/introduction-to-collections.ipynb Cell 16\u001b[0m in \u001b[0;36m<cell line: 1>\u001b[0;34m()\u001b[0m\n\u001b[0;32m----> <a href='vscode-notebook-cell:/home/alvesgf16/it/alura/cursos/programacao/python/collections/introduction-to-collections.ipynb#X21sZmlsZQ%3D%3D?line=0'>1</a>\u001b[0m ages\u001b[39m.\u001b[39;49mremove(\u001b[39m30\u001b[39;49m)\n",
      "\u001b[0;31mValueError\u001b[0m: list.remove(x): x not in list"
     ]
    }
   ],
   "source": [
    "ages.remove(30)"
   ]
  },
  {
   "cell_type": "code",
   "execution_count": 16,
   "metadata": {},
   "outputs": [],
   "source": [
    "ages.append(15)"
   ]
  },
  {
   "cell_type": "code",
   "execution_count": 17,
   "metadata": {},
   "outputs": [
    {
     "data": {
      "text/plain": [
       "[39, 27, 18, 15, 15]"
      ]
     },
     "execution_count": 17,
     "metadata": {},
     "output_type": "execute_result"
    }
   ],
   "source": [
    "ages"
   ]
  },
  {
   "cell_type": "code",
   "execution_count": 18,
   "metadata": {},
   "outputs": [],
   "source": [
    "ages.remove(15)"
   ]
  },
  {
   "cell_type": "code",
   "execution_count": 19,
   "metadata": {},
   "outputs": [
    {
     "data": {
      "text/plain": [
       "[39, 27, 18, 15]"
      ]
     },
     "execution_count": 19,
     "metadata": {},
     "output_type": "execute_result"
    }
   ],
   "source": [
    "ages"
   ]
  },
  {
   "cell_type": "code",
   "execution_count": 20,
   "metadata": {},
   "outputs": [
    {
     "data": {
      "text/plain": [
       "[39, 18, 15, 27]"
      ]
     },
     "execution_count": 20,
     "metadata": {},
     "output_type": "execute_result"
    }
   ],
   "source": [
    "ages.append(27)\n",
    "ages.remove(27)\n",
    "ages"
   ]
  },
  {
   "cell_type": "code",
   "execution_count": 21,
   "metadata": {},
   "outputs": [
    {
     "data": {
      "text/plain": [
       "False"
      ]
     },
     "execution_count": 21,
     "metadata": {},
     "output_type": "execute_result"
    }
   ],
   "source": [
    "28 in ages"
   ]
  },
  {
   "cell_type": "code",
   "execution_count": 22,
   "metadata": {},
   "outputs": [
    {
     "data": {
      "text/plain": [
       "True"
      ]
     },
     "execution_count": 22,
     "metadata": {},
     "output_type": "execute_result"
    }
   ],
   "source": [
    "15 in ages"
   ]
  },
  {
   "cell_type": "code",
   "execution_count": 23,
   "metadata": {},
   "outputs": [],
   "source": [
    "if 15 in ages:\n",
    "    ages.remove(15)"
   ]
  },
  {
   "cell_type": "code",
   "execution_count": 24,
   "metadata": {},
   "outputs": [
    {
     "data": {
      "text/plain": [
       "[39, 18, 27]"
      ]
     },
     "execution_count": 24,
     "metadata": {},
     "output_type": "execute_result"
    }
   ],
   "source": [
    "ages"
   ]
  },
  {
   "cell_type": "code",
   "execution_count": 25,
   "metadata": {},
   "outputs": [],
   "source": [
    "if 28 in ages:\n",
    "    ages.remove(28)"
   ]
  },
  {
   "cell_type": "code",
   "execution_count": 26,
   "metadata": {},
   "outputs": [
    {
     "data": {
      "text/plain": [
       "[39, 18, 27]"
      ]
     },
     "execution_count": 26,
     "metadata": {},
     "output_type": "execute_result"
    }
   ],
   "source": [
    "ages"
   ]
  },
  {
   "cell_type": "code",
   "execution_count": 27,
   "metadata": {},
   "outputs": [
    {
     "data": {
      "text/plain": [
       "[39, 18, 27, 19]"
      ]
     },
     "execution_count": 27,
     "metadata": {},
     "output_type": "execute_result"
    }
   ],
   "source": [
    "ages.append(19)\n",
    "ages"
   ]
  },
  {
   "cell_type": "code",
   "execution_count": 28,
   "metadata": {},
   "outputs": [
    {
     "data": {
      "text/plain": [
       "[20, 39, 18, 27, 19]"
      ]
     },
     "execution_count": 28,
     "metadata": {},
     "output_type": "execute_result"
    }
   ],
   "source": [
    "ages.insert(0, 20)\n",
    "ages"
   ]
  },
  {
   "cell_type": "code",
   "execution_count": 29,
   "metadata": {},
   "outputs": [
    {
     "data": {
      "text/plain": [
       "[20, 39, 18]"
      ]
     },
     "execution_count": 29,
     "metadata": {},
     "output_type": "execute_result"
    }
   ],
   "source": [
    "ages = [20, 39, 18]\n",
    "ages"
   ]
  },
  {
   "cell_type": "code",
   "execution_count": 30,
   "metadata": {},
   "outputs": [],
   "source": [
    "ages.append([27, 19])"
   ]
  },
  {
   "cell_type": "code",
   "execution_count": 31,
   "metadata": {},
   "outputs": [
    {
     "data": {
      "text/plain": [
       "[20, 39, 18, [27, 19]]"
      ]
     },
     "execution_count": 31,
     "metadata": {},
     "output_type": "execute_result"
    }
   ],
   "source": [
    "ages"
   ]
  },
  {
   "cell_type": "code",
   "execution_count": 32,
   "metadata": {},
   "outputs": [
    {
     "name": "stdout",
     "output_type": "stream",
     "text": [
      "I received the element 20\n",
      "I received the element 39\n",
      "I received the element 18\n",
      "I received the element [27, 19]\n"
     ]
    }
   ],
   "source": [
    "for element in ages:\n",
    "    print ('I received the element', element)"
   ]
  },
  {
   "cell_type": "code",
   "execution_count": 33,
   "metadata": {},
   "outputs": [
    {
     "data": {
      "text/plain": [
       "[20, 39, 18, 27, 19]"
      ]
     },
     "execution_count": 33,
     "metadata": {},
     "output_type": "execute_result"
    }
   ],
   "source": [
    "# sourcery skip: merge-list-extend\n",
    "ages = [20, 39, 18]\n",
    "ages.extend([27, 19])\n",
    "ages"
   ]
  },
  {
   "cell_type": "code",
   "execution_count": 34,
   "metadata": {},
   "outputs": [
    {
     "name": "stdout",
     "output_type": "stream",
     "text": [
      "21\n",
      "40\n",
      "19\n",
      "28\n",
      "20\n"
     ]
    }
   ],
   "source": [
    "for age in ages:\n",
    "    print(age + 1)"
   ]
  },
  {
   "cell_type": "code",
   "execution_count": 35,
   "metadata": {},
   "outputs": [
    {
     "data": {
      "text/plain": [
       "[21, 40, 19, 28, 20]"
      ]
     },
     "execution_count": 35,
     "metadata": {},
     "output_type": "execute_result"
    }
   ],
   "source": [
    "# sourcery skip: for-append-to-extend, list-comprehension\n",
    "ages_next_year = []\n",
    "for age in ages:\n",
    "    ages_next_year.append(age + 1)\n",
    "ages_next_year"
   ]
  },
  {
   "cell_type": "code",
   "execution_count": 36,
   "metadata": {},
   "outputs": [
    {
     "data": {
      "text/plain": [
       "[21, 40, 19, 28, 20]"
      ]
     },
     "execution_count": 36,
     "metadata": {},
     "output_type": "execute_result"
    }
   ],
   "source": [
    "ages_next_year = [age + 1 for age in ages]\n",
    "ages_next_year"
   ]
  },
  {
   "cell_type": "code",
   "execution_count": 37,
   "metadata": {},
   "outputs": [
    {
     "data": {
      "text/plain": [
       "[39, 27]"
      ]
     },
     "execution_count": 37,
     "metadata": {},
     "output_type": "execute_result"
    }
   ],
   "source": [
    "[age for age in ages if age > 21]"
   ]
  },
  {
   "cell_type": "code",
   "execution_count": 38,
   "metadata": {},
   "outputs": [
    {
     "data": {
      "text/plain": [
       "[20, 39, 18, 27, 19]"
      ]
     },
     "execution_count": 38,
     "metadata": {},
     "output_type": "execute_result"
    }
   ],
   "source": [
    "ages"
   ]
  },
  {
   "cell_type": "code",
   "execution_count": 39,
   "metadata": {},
   "outputs": [
    {
     "data": {
      "text/plain": [
       "[40, 28]"
      ]
     },
     "execution_count": 39,
     "metadata": {},
     "output_type": "execute_result"
    }
   ],
   "source": [
    "def next_year(age):\n",
    "    return age + 1\n",
    "\n",
    "[next_year(age) for age in ages if age > 21]"
   ]
  },
  {
   "cell_type": "code",
   "execution_count": 40,
   "metadata": {},
   "outputs": [],
   "source": [
    "def do_visualization_processing(some_list):\n",
    "    print(len(some_list))\n",
    "    some_list.append(13)"
   ]
  },
  {
   "cell_type": "code",
   "execution_count": 41,
   "metadata": {},
   "outputs": [
    {
     "name": "stdout",
     "output_type": "stream",
     "text": [
      "5\n"
     ]
    },
    {
     "data": {
      "text/plain": [
       "[16, 21, 29, 56, 43, 13]"
      ]
     },
     "execution_count": 41,
     "metadata": {},
     "output_type": "execute_result"
    }
   ],
   "source": [
    "ages = [16, 21, 29, 56, 43]\n",
    "do_visualization_processing(ages)\n",
    "ages"
   ]
  },
  {
   "cell_type": "code",
   "execution_count": 42,
   "metadata": {},
   "outputs": [],
   "source": [
    "def do_visualization_processing(some_list=[]):\n",
    "    # sourcery skip: default-mutable-arg\n",
    "    print(len(some_list))\n",
    "    print(some_list)\n",
    "    some_list.append(13)"
   ]
  },
  {
   "cell_type": "code",
   "execution_count": 43,
   "metadata": {},
   "outputs": [
    {
     "name": "stdout",
     "output_type": "stream",
     "text": [
      "0\n",
      "[]\n"
     ]
    }
   ],
   "source": [
    "do_visualization_processing()"
   ]
  },
  {
   "cell_type": "code",
   "execution_count": 44,
   "metadata": {},
   "outputs": [
    {
     "name": "stdout",
     "output_type": "stream",
     "text": [
      "1\n",
      "[13]\n"
     ]
    }
   ],
   "source": [
    "do_visualization_processing()"
   ]
  },
  {
   "cell_type": "code",
   "execution_count": 45,
   "metadata": {},
   "outputs": [
    {
     "name": "stdout",
     "output_type": "stream",
     "text": [
      "2\n",
      "[13, 13]\n"
     ]
    }
   ],
   "source": [
    "do_visualization_processing()"
   ]
  },
  {
   "cell_type": "code",
   "execution_count": 46,
   "metadata": {},
   "outputs": [
    {
     "name": "stdout",
     "output_type": "stream",
     "text": [
      "3\n",
      "[13, 13, 13]\n"
     ]
    }
   ],
   "source": [
    "do_visualization_processing()"
   ]
  },
  {
   "cell_type": "code",
   "execution_count": 47,
   "metadata": {},
   "outputs": [],
   "source": [
    "def do_visualization_processing(some_list=list()):\n",
    "    print(len(some_list))\n",
    "    print(some_list)\n",
    "    some_list.append(13)"
   ]
  },
  {
   "cell_type": "code",
   "execution_count": 48,
   "metadata": {},
   "outputs": [
    {
     "name": "stdout",
     "output_type": "stream",
     "text": [
      "0\n",
      "[]\n",
      "1\n",
      "[13]\n"
     ]
    }
   ],
   "source": [
    "do_visualization_processing()\n",
    "do_visualization_processing()"
   ]
  },
  {
   "cell_type": "code",
   "execution_count": 49,
   "metadata": {},
   "outputs": [],
   "source": [
    "def do_visualization_processing(some_list=None):\n",
    "    if some_list is None:\n",
    "        some_list = []\n",
    "    print(len(some_list))\n",
    "    print(some_list)\n",
    "    some_list.append(13)"
   ]
  },
  {
   "cell_type": "code",
   "execution_count": 50,
   "metadata": {},
   "outputs": [
    {
     "name": "stdout",
     "output_type": "stream",
     "text": [
      "0\n",
      "[]\n",
      "0\n",
      "[]\n",
      "0\n",
      "[]\n",
      "0\n",
      "[]\n"
     ]
    }
   ],
   "source": [
    "do_visualization_processing()\n",
    "do_visualization_processing()\n",
    "do_visualization_processing()\n",
    "do_visualization_processing()"
   ]
  },
  {
   "cell_type": "markdown",
   "metadata": {},
   "source": [
    "# Own objects"
   ]
  },
  {
   "cell_type": "code",
   "execution_count": 51,
   "metadata": {},
   "outputs": [],
   "source": [
    "class CurrentAccount:\n",
    "    def __init__(self, code):\n",
    "        self.code = code\n",
    "        self.balance = 0\n",
    "\n",
    "    def deposit(self, value):\n",
    "        self.balance += value\n",
    "\n",
    "    def __str__(self):\n",
    "        return f\"[>>Code {self.code} Balance {self.balance}<<]\""
   ]
  },
  {
   "cell_type": "code",
   "execution_count": 52,
   "metadata": {},
   "outputs": [
    {
     "name": "stdout",
     "output_type": "stream",
     "text": [
      "[>>Code 15 Balance 0<<]\n"
     ]
    }
   ],
   "source": [
    "gui_account = CurrentAccount(15)\n",
    "print(gui_account)"
   ]
  },
  {
   "cell_type": "code",
   "execution_count": 53,
   "metadata": {},
   "outputs": [
    {
     "name": "stdout",
     "output_type": "stream",
     "text": [
      "[>>Code 15 Balance 500<<]\n"
     ]
    }
   ],
   "source": [
    "gui_account.deposit(500)\n",
    "print(gui_account)"
   ]
  },
  {
   "cell_type": "code",
   "execution_count": 54,
   "metadata": {},
   "outputs": [
    {
     "name": "stdout",
     "output_type": "stream",
     "text": [
      "[>>Code 47685 Balance 1000<<]\n"
     ]
    }
   ],
   "source": [
    "dani_account = CurrentAccount(47685)\n",
    "dani_account.deposit(1000)\n",
    "print(dani_account)"
   ]
  },
  {
   "cell_type": "code",
   "execution_count": 55,
   "metadata": {},
   "outputs": [
    {
     "name": "stdout",
     "output_type": "stream",
     "text": [
      "[>>Code 15 Balance 500<<]\n",
      "[>>Code 47685 Balance 1000<<]\n"
     ]
    }
   ],
   "source": [
    "accounts = [gui_account, dani_account]\n",
    "for account in accounts:\n",
    "    print(account)"
   ]
  },
  {
   "cell_type": "code",
   "execution_count": 56,
   "metadata": {},
   "outputs": [],
   "source": [
    "accounts = [gui_account, dani_account, gui_account]"
   ]
  },
  {
   "cell_type": "code",
   "execution_count": 57,
   "metadata": {},
   "outputs": [
    {
     "name": "stdout",
     "output_type": "stream",
     "text": [
      "[>>Code 15 Balance 500<<]\n"
     ]
    }
   ],
   "source": [
    "print(accounts[0])"
   ]
  },
  {
   "cell_type": "code",
   "execution_count": 58,
   "metadata": {},
   "outputs": [],
   "source": [
    "gui_account.deposit(100)"
   ]
  },
  {
   "cell_type": "code",
   "execution_count": 59,
   "metadata": {},
   "outputs": [
    {
     "name": "stdout",
     "output_type": "stream",
     "text": [
      "[>>Code 15 Balance 600<<]\n"
     ]
    }
   ],
   "source": [
    "print(accounts[0])"
   ]
  },
  {
   "cell_type": "code",
   "execution_count": 60,
   "metadata": {},
   "outputs": [
    {
     "name": "stdout",
     "output_type": "stream",
     "text": [
      "[>>Code 15 Balance 600<<]\n"
     ]
    }
   ],
   "source": [
    "print(gui_account)"
   ]
  },
  {
   "cell_type": "code",
   "execution_count": 61,
   "metadata": {},
   "outputs": [
    {
     "name": "stdout",
     "output_type": "stream",
     "text": [
      "[>>Code 15 Balance 600<<]\n"
     ]
    }
   ],
   "source": [
    "print(accounts[2])"
   ]
  },
  {
   "cell_type": "code",
   "execution_count": 62,
   "metadata": {},
   "outputs": [],
   "source": [
    "accounts[2].deposit(300)"
   ]
  },
  {
   "cell_type": "code",
   "execution_count": 63,
   "metadata": {},
   "outputs": [
    {
     "name": "stdout",
     "output_type": "stream",
     "text": [
      "[>>Code 15 Balance 900<<]\n"
     ]
    }
   ],
   "source": [
    "print(gui_account)"
   ]
  },
  {
   "cell_type": "code",
   "execution_count": 64,
   "metadata": {},
   "outputs": [
    {
     "name": "stdout",
     "output_type": "stream",
     "text": [
      "[>>Code 15 Balance 900<<] [>>Code 47685 Balance 1000<<]\n",
      "[>>Code 15 Balance 1000<<] [>>Code 47685 Balance 1100<<]\n"
     ]
    }
   ],
   "source": [
    "def deposit_in_all(accounts):\n",
    "    for account in accounts:\n",
    "        account.deposit(100)\n",
    "\n",
    "accounts = [gui_account, dani_account]\n",
    "print(accounts[0], accounts[1])\n",
    "deposit_in_all(accounts)\n",
    "print(accounts[0], accounts[1])"
   ]
  },
  {
   "cell_type": "code",
   "execution_count": 65,
   "metadata": {},
   "outputs": [
    {
     "name": "stdout",
     "output_type": "stream",
     "text": [
      "76 [>>Code 15 Balance 1000<<] [>>Code 47685 Balance 1100<<]\n"
     ]
    }
   ],
   "source": [
    "accounts.insert(0, 76)\n",
    "print(accounts[0], accounts[1], accounts[2])"
   ]
  },
  {
   "cell_type": "code",
   "execution_count": 66,
   "metadata": {},
   "outputs": [
    {
     "ename": "AttributeError",
     "evalue": "'int' object has no attribute 'deposit'",
     "output_type": "error",
     "traceback": [
      "\u001b[0;31m---------------------------------------------------------------------------\u001b[0m",
      "\u001b[0;31mAttributeError\u001b[0m                            Traceback (most recent call last)",
      "\u001b[1;32m/home/alvesgf16/it/alura/cursos/programacao/python/collections/introduction-to-collections.ipynb Cell 68\u001b[0m in \u001b[0;36m<cell line: 1>\u001b[0;34m()\u001b[0m\n\u001b[0;32m----> <a href='vscode-notebook-cell:/home/alvesgf16/it/alura/cursos/programacao/python/collections/introduction-to-collections.ipynb#Y124sZmlsZQ%3D%3D?line=0'>1</a>\u001b[0m deposit_in_all(accounts)\n\u001b[1;32m      <a href='vscode-notebook-cell:/home/alvesgf16/it/alura/cursos/programacao/python/collections/introduction-to-collections.ipynb#Y124sZmlsZQ%3D%3D?line=1'>2</a>\u001b[0m \u001b[39mprint\u001b[39m(accounts[\u001b[39m0\u001b[39m], accounts[\u001b[39m1\u001b[39m], accounts[\u001b[39m2\u001b[39m])\n",
      "\u001b[1;32m/home/alvesgf16/it/alura/cursos/programacao/python/collections/introduction-to-collections.ipynb Cell 68\u001b[0m in \u001b[0;36mdeposit_in_all\u001b[0;34m(accounts)\u001b[0m\n\u001b[1;32m      <a href='vscode-notebook-cell:/home/alvesgf16/it/alura/cursos/programacao/python/collections/introduction-to-collections.ipynb#Y124sZmlsZQ%3D%3D?line=0'>1</a>\u001b[0m \u001b[39mdef\u001b[39;00m \u001b[39mdeposit_in_all\u001b[39m(accounts):\n\u001b[1;32m      <a href='vscode-notebook-cell:/home/alvesgf16/it/alura/cursos/programacao/python/collections/introduction-to-collections.ipynb#Y124sZmlsZQ%3D%3D?line=1'>2</a>\u001b[0m     \u001b[39mfor\u001b[39;00m account \u001b[39min\u001b[39;00m accounts:\n\u001b[0;32m----> <a href='vscode-notebook-cell:/home/alvesgf16/it/alura/cursos/programacao/python/collections/introduction-to-collections.ipynb#Y124sZmlsZQ%3D%3D?line=2'>3</a>\u001b[0m         account\u001b[39m.\u001b[39;49mdeposit(\u001b[39m100\u001b[39m)\n",
      "\u001b[0;31mAttributeError\u001b[0m: 'int' object has no attribute 'deposit'"
     ]
    }
   ],
   "source": [
    "deposit_in_all(accounts)\n",
    "print(accounts[0], accounts[1], accounts[2])"
   ]
  },
  {
   "cell_type": "code",
   "execution_count": 67,
   "metadata": {},
   "outputs": [],
   "source": [
    "guilherme = ('Guilherme', 37, 1981)\n",
    "daniela = ('Daniela', 31, 1987)\n",
    "# paulo = (39, 'Paulo', 1979) # ruim"
   ]
  },
  {
   "cell_type": "code",
   "execution_count": 68,
   "metadata": {},
   "outputs": [
    {
     "ename": "AttributeError",
     "evalue": "'tuple' object has no attribute 'append'",
     "output_type": "error",
     "traceback": [
      "\u001b[0;31m---------------------------------------------------------------------------\u001b[0m",
      "\u001b[0;31mAttributeError\u001b[0m                            Traceback (most recent call last)",
      "\u001b[1;32m/home/alvesgf16/it/alura/cursos/programacao/python/collections/introduction-to-collections.ipynb Cell 70\u001b[0m in \u001b[0;36m<cell line: 1>\u001b[0;34m()\u001b[0m\n\u001b[0;32m----> <a href='vscode-notebook-cell:/home/alvesgf16/it/alura/cursos/programacao/python/collections/introduction-to-collections.ipynb#Y126sZmlsZQ%3D%3D?line=0'>1</a>\u001b[0m guilherme\u001b[39m.\u001b[39;49mappend(\u001b[39m6754\u001b[39m)\n",
      "\u001b[0;31mAttributeError\u001b[0m: 'tuple' object has no attribute 'append'"
     ]
    }
   ],
   "source": [
    "guilherme.append(6754)"
   ]
  },
  {
   "cell_type": "code",
   "execution_count": 69,
   "metadata": {},
   "outputs": [
    {
     "data": {
      "text/plain": [
       "1000"
      ]
     },
     "execution_count": 69,
     "metadata": {},
     "output_type": "execute_result"
    }
   ],
   "source": [
    "gui_account = (15, 1000)\n",
    "# gui_account.deposit() # OO variation\n",
    "gui_account[1]"
   ]
  },
  {
   "cell_type": "code",
   "execution_count": 70,
   "metadata": {},
   "outputs": [
    {
     "ename": "TypeError",
     "evalue": "'tuple' object does not support item assignment",
     "output_type": "error",
     "traceback": [
      "\u001b[0;31m---------------------------------------------------------------------------\u001b[0m",
      "\u001b[0;31mTypeError\u001b[0m                                 Traceback (most recent call last)",
      "\u001b[1;32m/home/alvesgf16/it/alura/cursos/programacao/python/collections/introduction-to-collections.ipynb Cell 72\u001b[0m in \u001b[0;36m<cell line: 1>\u001b[0;34m()\u001b[0m\n\u001b[0;32m----> <a href='vscode-notebook-cell:/home/alvesgf16/it/alura/cursos/programacao/python/collections/introduction-to-collections.ipynb#Y131sZmlsZQ%3D%3D?line=0'>1</a>\u001b[0m gui_account[\u001b[39m1\u001b[39m] \u001b[39m+\u001b[39m\u001b[39m=\u001b[39m \u001b[39m100\u001b[39m\n",
      "\u001b[0;31mTypeError\u001b[0m: 'tuple' object does not support item assignment"
     ]
    }
   ],
   "source": [
    "gui_account[1] += 100"
   ]
  },
  {
   "cell_type": "code",
   "execution_count": 71,
   "metadata": {},
   "outputs": [],
   "source": [
    "def deposit(account): # \"functional\" variation (separating behavior from data)\n",
    "    new_balance = account[1] + 100\n",
    "    code = account[0]\n",
    "    return (code, new_balance)"
   ]
  },
  {
   "cell_type": "code",
   "execution_count": 72,
   "metadata": {},
   "outputs": [
    {
     "data": {
      "text/plain": [
       "(15, 1100)"
      ]
     },
     "execution_count": 72,
     "metadata": {},
     "output_type": "execute_result"
    }
   ],
   "source": [
    "deposit(gui_account)"
   ]
  },
  {
   "cell_type": "code",
   "execution_count": 73,
   "metadata": {},
   "outputs": [
    {
     "data": {
      "text/plain": [
       "(15, 1000)"
      ]
     },
     "execution_count": 73,
     "metadata": {},
     "output_type": "execute_result"
    }
   ],
   "source": [
    "gui_account"
   ]
  },
  {
   "cell_type": "code",
   "execution_count": 74,
   "metadata": {},
   "outputs": [
    {
     "data": {
      "text/plain": [
       "(15, 1100)"
      ]
     },
     "execution_count": 74,
     "metadata": {},
     "output_type": "execute_result"
    }
   ],
   "source": [
    "gui_account = deposit(gui_account)\n",
    "gui_account"
   ]
  },
  {
   "cell_type": "code",
   "execution_count": 75,
   "metadata": {},
   "outputs": [
    {
     "data": {
      "text/plain": [
       "[('Guilherme', 37, 1981), ('Daniela', 31, 1987)]"
      ]
     },
     "execution_count": 75,
     "metadata": {},
     "output_type": "execute_result"
    }
   ],
   "source": [
    "users = [guilherme, daniela]\n",
    "users"
   ]
  },
  {
   "cell_type": "code",
   "execution_count": 76,
   "metadata": {},
   "outputs": [],
   "source": [
    "users.append(('Paulo', 39, 1979))"
   ]
  },
  {
   "cell_type": "code",
   "execution_count": 77,
   "metadata": {},
   "outputs": [
    {
     "data": {
      "text/plain": [
       "[('Guilherme', 37, 1981), ('Daniela', 31, 1987), ('Paulo', 39, 1979)]"
      ]
     },
     "execution_count": 77,
     "metadata": {},
     "output_type": "execute_result"
    }
   ],
   "source": [
    "users"
   ]
  },
  {
   "cell_type": "code",
   "execution_count": 78,
   "metadata": {},
   "outputs": [
    {
     "ename": "TypeError",
     "evalue": "'tuple' object does not support item assignment",
     "output_type": "error",
     "traceback": [
      "\u001b[0;31m---------------------------------------------------------------------------\u001b[0m",
      "\u001b[0;31mTypeError\u001b[0m                                 Traceback (most recent call last)",
      "\u001b[1;32m/home/alvesgf16/it/alura/cursos/programacao/python/collections/introduction-to-collections.ipynb Cell 80\u001b[0m in \u001b[0;36m<cell line: 1>\u001b[0;34m()\u001b[0m\n\u001b[0;32m----> <a href='vscode-notebook-cell:/home/alvesgf16/it/alura/cursos/programacao/python/collections/introduction-to-collections.ipynb#Y142sZmlsZQ%3D%3D?line=0'>1</a>\u001b[0m users[\u001b[39m0\u001b[39m][\u001b[39m0\u001b[39m] \u001b[39m=\u001b[39m \u001b[39m'\u001b[39m\u001b[39mGuilherme Silveira\u001b[39m\u001b[39m'\u001b[39m\n",
      "\u001b[0;31mTypeError\u001b[0m: 'tuple' object does not support item assignment"
     ]
    }
   ],
   "source": [
    "users[0][0] = 'Guilherme Silveira'"
   ]
  },
  {
   "cell_type": "code",
   "execution_count": 79,
   "metadata": {},
   "outputs": [],
   "source": [
    "gui_account = CurrentAccount(15)\n",
    "gui_account.deposit(500)\n",
    "dani_account = CurrentAccount(234876)\n",
    "dani_account.deposit(1000)\n",
    "\n",
    "accounts = (gui_account, dani_account)"
   ]
  },
  {
   "cell_type": "code",
   "execution_count": 80,
   "metadata": {},
   "outputs": [
    {
     "data": {
      "text/plain": [
       "(<__main__.CurrentAccount at 0x7fbec0253c70>,\n",
       " <__main__.CurrentAccount at 0x7fbec0494430>)"
      ]
     },
     "execution_count": 80,
     "metadata": {},
     "output_type": "execute_result"
    }
   ],
   "source": [
    "accounts"
   ]
  },
  {
   "cell_type": "code",
   "execution_count": 81,
   "metadata": {},
   "outputs": [
    {
     "name": "stdout",
     "output_type": "stream",
     "text": [
      "[>>Code 15 Balance 500<<]\n",
      "[>>Code 234876 Balance 1000<<]\n"
     ]
    }
   ],
   "source": [
    "for account in accounts:\n",
    "    print(account)"
   ]
  },
  {
   "cell_type": "code",
   "execution_count": 82,
   "metadata": {},
   "outputs": [
    {
     "ename": "AttributeError",
     "evalue": "'tuple' object has no attribute 'append'",
     "output_type": "error",
     "traceback": [
      "\u001b[0;31m---------------------------------------------------------------------------\u001b[0m",
      "\u001b[0;31mAttributeError\u001b[0m                            Traceback (most recent call last)",
      "\u001b[1;32m/home/alvesgf16/it/alura/cursos/programacao/python/collections/introduction-to-collections.ipynb Cell 84\u001b[0m in \u001b[0;36m<cell line: 1>\u001b[0;34m()\u001b[0m\n\u001b[0;32m----> <a href='vscode-notebook-cell:/home/alvesgf16/it/alura/cursos/programacao/python/collections/introduction-to-collections.ipynb#Y146sZmlsZQ%3D%3D?line=0'>1</a>\u001b[0m accounts\u001b[39m.\u001b[39;49mappend(\u001b[39m423768\u001b[39m)\n",
      "\u001b[0;31mAttributeError\u001b[0m: 'tuple' object has no attribute 'append'"
     ]
    }
   ],
   "source": [
    "accounts.append(423768)"
   ]
  },
  {
   "cell_type": "code",
   "execution_count": 83,
   "metadata": {},
   "outputs": [],
   "source": [
    "accounts[0].deposit(300)"
   ]
  },
  {
   "cell_type": "code",
   "execution_count": 84,
   "metadata": {},
   "outputs": [
    {
     "name": "stdout",
     "output_type": "stream",
     "text": [
      "[>>Code 15 Balance 800<<]\n",
      "[>>Code 234876 Balance 1000<<]\n"
     ]
    }
   ],
   "source": [
    "for account in accounts:\n",
    "    print(account)"
   ]
  },
  {
   "cell_type": "markdown",
   "metadata": {},
   "source": [
    "# Inheritance and polymorphism"
   ]
  },
  {
   "cell_type": "code",
   "execution_count": 85,
   "metadata": {},
   "outputs": [],
   "source": [
    "from abc import ABCMeta, abstractmethod\n",
    "\n",
    "class Account(metaclass=ABCMeta):\n",
    "    def __init__(self, code):\n",
    "        self._code = code\n",
    "        self._balance = 0\n",
    "\n",
    "    def deposit(self, value):\n",
    "        self._balance += value\n",
    "\n",
    "    @abstractmethod\n",
    "    def the_month_passes(self):\n",
    "        pass\n",
    "\n",
    "    def __str__(self):\n",
    "        return f\"[>>Code {self._code} Balance {self._balance}<<]\""
   ]
  },
  {
   "cell_type": "code",
   "execution_count": 86,
   "metadata": {},
   "outputs": [
    {
     "ename": "TypeError",
     "evalue": "Can't instantiate abstract class Account with abstract method the_month_passes",
     "output_type": "error",
     "traceback": [
      "\u001b[0;31m---------------------------------------------------------------------------\u001b[0m",
      "\u001b[0;31mTypeError\u001b[0m                                 Traceback (most recent call last)",
      "\u001b[1;32m/home/alvesgf16/it/alura/cursos/programacao/python/collections/introduction-to-collections.ipynb Cell 89\u001b[0m in \u001b[0;36m<cell line: 1>\u001b[0;34m()\u001b[0m\n\u001b[0;32m----> <a href='vscode-notebook-cell:/home/alvesgf16/it/alura/cursos/programacao/python/collections/introduction-to-collections.ipynb#Y154sZmlsZQ%3D%3D?line=0'>1</a>\u001b[0m \u001b[39mprint\u001b[39m(Account(\u001b[39m88\u001b[39;49m))\n",
      "\u001b[0;31mTypeError\u001b[0m: Can't instantiate abstract class Account with abstract method the_month_passes"
     ]
    }
   ],
   "source": [
    "print(Account(88))"
   ]
  },
  {
   "cell_type": "code",
   "execution_count": 87,
   "metadata": {},
   "outputs": [],
   "source": [
    "class CurrentAccount(Account):\n",
    "    def the_month_passes(self):\n",
    "        self._balance -= 2\n",
    "\n",
    "class SavingsAccount(Account):\n",
    "    def the_month_passes(self):\n",
    "        self._balance *= 1.01\n",
    "        self._balance -= 3\n",
    "\n",
    "class InvestmentAccount(Account):\n",
    "    pass"
   ]
  },
  {
   "cell_type": "code",
   "execution_count": 88,
   "metadata": {},
   "outputs": [
    {
     "ename": "TypeError",
     "evalue": "Can't instantiate abstract class InvestmentAccount with abstract method the_month_passes",
     "output_type": "error",
     "traceback": [
      "\u001b[0;31m---------------------------------------------------------------------------\u001b[0m",
      "\u001b[0;31mTypeError\u001b[0m                                 Traceback (most recent call last)",
      "\u001b[1;32m/home/alvesgf16/it/alura/cursos/programacao/python/collections/introduction-to-collections.ipynb Cell 91\u001b[0m in \u001b[0;36m<cell line: 1>\u001b[0;34m()\u001b[0m\n\u001b[0;32m----> <a href='vscode-notebook-cell:/home/alvesgf16/it/alura/cursos/programacao/python/collections/introduction-to-collections.ipynb#Y156sZmlsZQ%3D%3D?line=0'>1</a>\u001b[0m InvestmentAccount(\u001b[39m764\u001b[39;49m)\n",
      "\u001b[0;31mTypeError\u001b[0m: Can't instantiate abstract class InvestmentAccount with abstract method the_month_passes"
     ]
    }
   ],
   "source": [
    "InvestmentAccount(764)"
   ]
  },
  {
   "cell_type": "code",
   "execution_count": 89,
   "metadata": {},
   "outputs": [
    {
     "name": "stdout",
     "output_type": "stream",
     "text": [
      "[>>Code 16 Balance 998<<]\n"
     ]
    }
   ],
   "source": [
    "account16 = CurrentAccount(16)\n",
    "account16.deposit(1000)\n",
    "account16.the_month_passes()\n",
    "print(account16)"
   ]
  },
  {
   "cell_type": "code",
   "execution_count": 90,
   "metadata": {},
   "outputs": [
    {
     "name": "stdout",
     "output_type": "stream",
     "text": [
      "[>>Code 17 Balance 1007.0<<]\n"
     ]
    }
   ],
   "source": [
    "account17 = SavingsAccount(17)\n",
    "account17.deposit(1000)\n",
    "account17.the_month_passes()\n",
    "print(account17)"
   ]
  },
  {
   "cell_type": "code",
   "execution_count": 91,
   "metadata": {},
   "outputs": [
    {
     "name": "stdout",
     "output_type": "stream",
     "text": [
      "[>>Code 16 Balance 998<<]\n",
      "[>>Code 17 Balance 1007.0<<]\n"
     ]
    }
   ],
   "source": [
    "account16 = CurrentAccount(16)\n",
    "account16.deposit(1000)\n",
    "account17 = SavingsAccount(17)\n",
    "account17.deposit(1000)\n",
    "accounts = [account16, account17]\n",
    "\n",
    "for account in accounts:\n",
    "    account.the_month_passes()\n",
    "    print(account)"
   ]
  },
  {
   "cell_type": "markdown",
   "metadata": {},
   "source": [
    "# we will avoid using the pure array. if we need numerical work it is customary to use numpy"
   ]
  },
  {
   "cell_type": "code",
   "execution_count": 92,
   "metadata": {},
   "outputs": [
    {
     "data": {
      "text/plain": [
       "array('d', [1.0, 3.5])"
      ]
     },
     "execution_count": 92,
     "metadata": {},
     "output_type": "execute_result"
    }
   ],
   "source": [
    "import array as arr\n",
    "\n",
    "arr.array('d', [1, 3.5])"
   ]
  },
  {
   "cell_type": "code",
   "execution_count": 93,
   "metadata": {},
   "outputs": [
    {
     "ename": "TypeError",
     "evalue": "must be real number, not str",
     "output_type": "error",
     "traceback": [
      "\u001b[0;31m---------------------------------------------------------------------------\u001b[0m",
      "\u001b[0;31mTypeError\u001b[0m                                 Traceback (most recent call last)",
      "\u001b[1;32m/home/alvesgf16/it/alura/cursos/programacao/python/collections/introduction-to-collections.ipynb Cell 97\u001b[0m in \u001b[0;36m<cell line: 1>\u001b[0;34m()\u001b[0m\n\u001b[0;32m----> <a href='vscode-notebook-cell:/home/alvesgf16/it/alura/cursos/programacao/python/collections/introduction-to-collections.ipynb#Y165sZmlsZQ%3D%3D?line=0'>1</a>\u001b[0m arr\u001b[39m.\u001b[39;49marray(\u001b[39m'\u001b[39;49m\u001b[39md\u001b[39;49m\u001b[39m'\u001b[39;49m, [\u001b[39m1\u001b[39;49m, \u001b[39m3.5\u001b[39;49m, \u001b[39m'\u001b[39;49m\u001b[39mGuilherme\u001b[39;49m\u001b[39m'\u001b[39;49m])\n",
      "\u001b[0;31mTypeError\u001b[0m: must be real number, not str"
     ]
    }
   ],
   "source": [
    "arr.array('d', [1, 3.5, 'Guilherme'])"
   ]
  },
  {
   "cell_type": "code",
   "execution_count": 94,
   "metadata": {},
   "outputs": [
    {
     "data": {
      "text/plain": [
       "array([1. , 3.5])"
      ]
     },
     "execution_count": 94,
     "metadata": {},
     "output_type": "execute_result"
    }
   ],
   "source": [
    "import numpy as np\n",
    "\n",
    "numbers = np.array([1, 3.5])\n",
    "numbers"
   ]
  },
  {
   "cell_type": "code",
   "execution_count": 95,
   "metadata": {},
   "outputs": [
    {
     "data": {
      "text/plain": [
       "array([4. , 6.5])"
      ]
     },
     "execution_count": 95,
     "metadata": {},
     "output_type": "execute_result"
    }
   ],
   "source": [
    "numbers + 3"
   ]
  },
  {
   "cell_type": "code",
   "execution_count": 96,
   "metadata": {},
   "outputs": [],
   "source": [
    "class SalaryAccount:\n",
    "    def __init__(self, code):\n",
    "        self._code = code\n",
    "        self._balance = 0\n",
    "\n",
    "    def deposit(self, value):\n",
    "        self._balance += value\n",
    "\n",
    "    def __str__(self):\n",
    "        return f\"[>>Code {self._code} Balance {self._balance}<<]\""
   ]
  },
  {
   "cell_type": "code",
   "execution_count": 97,
   "metadata": {},
   "outputs": [
    {
     "name": "stdout",
     "output_type": "stream",
     "text": [
      "[>>Code 37 Balance 0<<]\n"
     ]
    }
   ],
   "source": [
    "account1 = SalaryAccount(37)\n",
    "print(account1)"
   ]
  },
  {
   "cell_type": "code",
   "execution_count": 98,
   "metadata": {},
   "outputs": [
    {
     "name": "stdout",
     "output_type": "stream",
     "text": [
      "[>>Code 37 Balance 0<<]\n"
     ]
    }
   ],
   "source": [
    "account2 = SalaryAccount(37)\n",
    "print(account2)"
   ]
  },
  {
   "cell_type": "code",
   "execution_count": 99,
   "metadata": {},
   "outputs": [
    {
     "data": {
      "text/plain": [
       "False"
      ]
     },
     "execution_count": 99,
     "metadata": {},
     "output_type": "execute_result"
    }
   ],
   "source": [
    "account1 == account2"
   ]
  },
  {
   "cell_type": "code",
   "execution_count": 100,
   "metadata": {},
   "outputs": [
    {
     "data": {
      "text/plain": [
       "True"
      ]
     },
     "execution_count": 100,
     "metadata": {},
     "output_type": "execute_result"
    }
   ],
   "source": [
    "accounts = [account1]\n",
    "account1 in accounts"
   ]
  },
  {
   "cell_type": "code",
   "execution_count": 101,
   "metadata": {},
   "outputs": [
    {
     "data": {
      "text/plain": [
       "False"
      ]
     },
     "execution_count": 101,
     "metadata": {},
     "output_type": "execute_result"
    }
   ],
   "source": [
    "account2 in accounts"
   ]
  },
  {
   "cell_type": "code",
   "execution_count": 102,
   "metadata": {},
   "outputs": [],
   "source": [
    "class SalaryAccount:\n",
    "    def __init__(self, code):\n",
    "        self._code = code\n",
    "        self._balance = 0\n",
    "\n",
    "    def __eq__(self, other):\n",
    "        return self._code == other._code\n",
    "\n",
    "    def deposit(self, value):\n",
    "        self._balance += value\n",
    "\n",
    "    def __str__(self):\n",
    "        return f\"[>>Code {self._code} Balance {self._balance}<<]\""
   ]
  },
  {
   "cell_type": "code",
   "execution_count": 103,
   "metadata": {},
   "outputs": [
    {
     "data": {
      "text/plain": [
       "True"
      ]
     },
     "execution_count": 103,
     "metadata": {},
     "output_type": "execute_result"
    }
   ],
   "source": [
    "account1 = SalaryAccount(37)\n",
    "account2 = SalaryAccount(37)\n",
    "account1 == account2"
   ]
  },
  {
   "cell_type": "code",
   "execution_count": 104,
   "metadata": {},
   "outputs": [
    {
     "data": {
      "text/plain": [
       "False"
      ]
     },
     "execution_count": 104,
     "metadata": {},
     "output_type": "execute_result"
    }
   ],
   "source": [
    "account1 != account2"
   ]
  },
  {
   "cell_type": "code",
   "execution_count": 105,
   "metadata": {},
   "outputs": [
    {
     "data": {
      "text/plain": [
       "True"
      ]
     },
     "execution_count": 105,
     "metadata": {},
     "output_type": "execute_result"
    }
   ],
   "source": [
    "account1 in [account2]"
   ]
  },
  {
   "cell_type": "code",
   "execution_count": 106,
   "metadata": {},
   "outputs": [
    {
     "data": {
      "text/plain": [
       "True"
      ]
     },
     "execution_count": 106,
     "metadata": {},
     "output_type": "execute_result"
    }
   ],
   "source": [
    "account2 in [account1]"
   ]
  },
  {
   "cell_type": "code",
   "execution_count": 107,
   "metadata": {},
   "outputs": [],
   "source": [
    "class SalaryAccount:\n",
    "    def __init__(self, code):\n",
    "        self._code = code\n",
    "        self._balance = 0\n",
    "\n",
    "    def __eq__(self, other):\n",
    "        return self._code == other._code and self._balance == other._balance\n",
    "\n",
    "    def deposit(self, value):\n",
    "        self._balance += value\n",
    "\n",
    "    def __str__(self):\n",
    "        return f\"[>>Code {self._code} Balance {self._balance}<<]\"\n"
   ]
  },
  {
   "cell_type": "code",
   "execution_count": 108,
   "metadata": {},
   "outputs": [
    {
     "data": {
      "text/plain": [
       "True"
      ]
     },
     "execution_count": 108,
     "metadata": {},
     "output_type": "execute_result"
    }
   ],
   "source": [
    "account1 = SalaryAccount(37)\n",
    "account2 = SalaryAccount(37)\n",
    "account1 == account2"
   ]
  },
  {
   "cell_type": "code",
   "execution_count": 109,
   "metadata": {},
   "outputs": [],
   "source": [
    "account1.deposit(10)"
   ]
  },
  {
   "cell_type": "code",
   "execution_count": 110,
   "metadata": {},
   "outputs": [
    {
     "data": {
      "text/plain": [
       "False"
      ]
     },
     "execution_count": 110,
     "metadata": {},
     "output_type": "execute_result"
    }
   ],
   "source": [
    "account1 == account2"
   ]
  },
  {
   "cell_type": "code",
   "execution_count": 111,
   "metadata": {},
   "outputs": [],
   "source": [
    "class SalaryAccount:\n",
    "    def __init__(self, code):\n",
    "        self._code = code\n",
    "        self._balance = 0\n",
    "\n",
    "    def __eq__(self, other):\n",
    "        if type(other) != SalaryAccount:\n",
    "            return False\n",
    "        \n",
    "        return self._code == other._code and self._balance == other._balance\n",
    "\n",
    "    def deposit(self, value):\n",
    "        self._balance += value\n",
    "\n",
    "    def __str__(self):\n",
    "        return f\"[>>Code {self._code} Balance {self._balance}<<]\""
   ]
  },
  {
   "cell_type": "code",
   "execution_count": 112,
   "metadata": {},
   "outputs": [],
   "source": [
    "account1 = SalaryAccount(37)\n",
    "account2 = CurrentAccount(37)"
   ]
  },
  {
   "cell_type": "code",
   "execution_count": 113,
   "metadata": {},
   "outputs": [
    {
     "data": {
      "text/plain": [
       "False"
      ]
     },
     "execution_count": 113,
     "metadata": {},
     "output_type": "execute_result"
    }
   ],
   "source": [
    "account1 == account2"
   ]
  },
  {
   "cell_type": "code",
   "execution_count": 114,
   "metadata": {},
   "outputs": [
    {
     "data": {
      "text/plain": [
       "True"
      ]
     },
     "execution_count": 114,
     "metadata": {},
     "output_type": "execute_result"
    }
   ],
   "source": [
    "isinstance(CurrentAccount(34), CurrentAccount)"
   ]
  },
  {
   "cell_type": "code",
   "execution_count": 115,
   "metadata": {},
   "outputs": [
    {
     "data": {
      "text/plain": [
       "True"
      ]
     },
     "execution_count": 115,
     "metadata": {},
     "output_type": "execute_result"
    }
   ],
   "source": [
    "isinstance(CurrentAccount(34), Account)"
   ]
  },
  {
   "cell_type": "code",
   "execution_count": 116,
   "metadata": {},
   "outputs": [
    {
     "name": "stdout",
     "output_type": "stream",
     "text": [
      "0 15\n",
      "1 87\n",
      "2 32\n",
      "3 65\n",
      "4 56\n",
      "5 32\n",
      "6 49\n",
      "7 37\n"
     ]
    }
   ],
   "source": [
    "ages = [15, 87, 32, 65, 56, 32, 49, 37]\n",
    "\n",
    "for i in range(len(ages)):\n",
    "    print(i, ages[i])"
   ]
  },
  {
   "cell_type": "code",
   "execution_count": 117,
   "metadata": {},
   "outputs": [
    {
     "data": {
      "text/plain": [
       "range(0, 8)"
      ]
     },
     "execution_count": 117,
     "metadata": {},
     "output_type": "execute_result"
    }
   ],
   "source": [
    "range(len(ages)) # lazy..."
   ]
  },
  {
   "cell_type": "code",
   "execution_count": 118,
   "metadata": {},
   "outputs": [
    {
     "data": {
      "text/plain": [
       "<enumerate at 0x7fbec5d9a080>"
      ]
     },
     "execution_count": 118,
     "metadata": {},
     "output_type": "execute_result"
    }
   ],
   "source": [
    "enumerate(ages) # lazy"
   ]
  },
  {
   "cell_type": "code",
   "execution_count": 119,
   "metadata": {},
   "outputs": [
    {
     "data": {
      "text/plain": [
       "[0, 1, 2, 3, 4, 5, 6, 7]"
      ]
     },
     "execution_count": 119,
     "metadata": {},
     "output_type": "execute_result"
    }
   ],
   "source": [
    "list(range(len(ages))) # I forced the generation of values"
   ]
  },
  {
   "cell_type": "code",
   "execution_count": 120,
   "metadata": {},
   "outputs": [
    {
     "data": {
      "text/plain": [
       "[(0, 15), (1, 87), (2, 32), (3, 65), (4, 56), (5, 32), (6, 49), (7, 37)]"
      ]
     },
     "execution_count": 120,
     "metadata": {},
     "output_type": "execute_result"
    }
   ],
   "source": [
    "list(enumerate(ages))"
   ]
  },
  {
   "cell_type": "code",
   "execution_count": 121,
   "metadata": {},
   "outputs": [
    {
     "name": "stdout",
     "output_type": "stream",
     "text": [
      "0 x 15\n",
      "1 x 87\n",
      "2 x 32\n",
      "3 x 65\n",
      "4 x 56\n",
      "5 x 32\n",
      "6 x 49\n",
      "7 x 37\n"
     ]
    }
   ],
   "source": [
    "for index, age in enumerate(ages): # unpacking of the tuple\n",
    "    print(index, \"x\", age)"
   ]
  },
  {
   "cell_type": "code",
   "execution_count": 122,
   "metadata": {},
   "outputs": [
    {
     "name": "stdout",
     "output_type": "stream",
     "text": [
      "Guilherme\n",
      "Daniela\n",
      "Paulo\n"
     ]
    }
   ],
   "source": [
    "users = [\n",
    "    (\"Guilherme\", 37, 1981),\n",
    "    (\"Daniela\", 31, 1987),\n",
    "    (\"Paulo\", 39, 1979)\n",
    "]\n",
    "\n",
    "for name, age, birth_year in users: # already unpacking\n",
    "    print(name)"
   ]
  },
  {
   "cell_type": "code",
   "execution_count": 123,
   "metadata": {},
   "outputs": [
    {
     "name": "stdout",
     "output_type": "stream",
     "text": [
      "Guilherme\n",
      "Daniela\n",
      "Paulo\n"
     ]
    }
   ],
   "source": [
    "for name, _, _ in users: # already unpacking, ignoring the rest\n",
    "    print(name)"
   ]
  },
  {
   "cell_type": "code",
   "execution_count": 124,
   "metadata": {},
   "outputs": [
    {
     "data": {
      "text/plain": [
       "[15, 87, 32, 65, 56, 32, 49, 37]"
      ]
     },
     "execution_count": 124,
     "metadata": {},
     "output_type": "execute_result"
    }
   ],
   "source": [
    "ages"
   ]
  },
  {
   "cell_type": "code",
   "execution_count": 125,
   "metadata": {},
   "outputs": [
    {
     "data": {
      "text/plain": [
       "[15, 32, 32, 37, 49, 56, 65, 87]"
      ]
     },
     "execution_count": 125,
     "metadata": {},
     "output_type": "execute_result"
    }
   ],
   "source": [
    "sorted(ages)"
   ]
  },
  {
   "cell_type": "code",
   "execution_count": 126,
   "metadata": {},
   "outputs": [
    {
     "data": {
      "text/plain": [
       "True"
      ]
     },
     "execution_count": 126,
     "metadata": {},
     "output_type": "execute_result"
    }
   ],
   "source": [
    "15 < 32"
   ]
  },
  {
   "cell_type": "code",
   "execution_count": 127,
   "metadata": {},
   "outputs": [
    {
     "data": {
      "text/plain": [
       "[37, 49, 32, 56, 65, 32, 87, 15]"
      ]
     },
     "execution_count": 127,
     "metadata": {},
     "output_type": "execute_result"
    }
   ],
   "source": [
    "list(reversed(ages))"
   ]
  },
  {
   "cell_type": "code",
   "execution_count": 128,
   "metadata": {},
   "outputs": [
    {
     "data": {
      "text/plain": [
       "[87, 65, 56, 49, 37, 32, 32, 15]"
      ]
     },
     "execution_count": 128,
     "metadata": {},
     "output_type": "execute_result"
    }
   ],
   "source": [
    "sorted(ages, reverse=True)"
   ]
  },
  {
   "cell_type": "code",
   "execution_count": 129,
   "metadata": {},
   "outputs": [
    {
     "data": {
      "text/plain": [
       "[87, 65, 56, 49, 37, 32, 32, 15]"
      ]
     },
     "execution_count": 129,
     "metadata": {},
     "output_type": "execute_result"
    }
   ],
   "source": [
    "list(reversed(sorted(ages)))"
   ]
  },
  {
   "cell_type": "code",
   "execution_count": 130,
   "metadata": {},
   "outputs": [
    {
     "data": {
      "text/plain": [
       "[15, 87, 32, 65, 56, 32, 49, 37]"
      ]
     },
     "execution_count": 130,
     "metadata": {},
     "output_type": "execute_result"
    }
   ],
   "source": [
    "ages"
   ]
  },
  {
   "cell_type": "code",
   "execution_count": 131,
   "metadata": {},
   "outputs": [],
   "source": [
    "ages.sort()"
   ]
  },
  {
   "cell_type": "code",
   "execution_count": 132,
   "metadata": {},
   "outputs": [
    {
     "data": {
      "text/plain": [
       "[15, 32, 32, 37, 49, 56, 65, 87]"
      ]
     },
     "execution_count": 132,
     "metadata": {},
     "output_type": "execute_result"
    }
   ],
   "source": [
    "ages"
   ]
  },
  {
   "cell_type": "code",
   "execution_count": 133,
   "metadata": {},
   "outputs": [
    {
     "data": {
      "text/plain": [
       "True"
      ]
     },
     "execution_count": 133,
     "metadata": {},
     "output_type": "execute_result"
    }
   ],
   "source": [
    "15 < 32"
   ]
  },
  {
   "cell_type": "code",
   "execution_count": 134,
   "metadata": {},
   "outputs": [
    {
     "data": {
      "text/plain": [
       "['Daniela', 'Guilherme', 'Paulo']"
      ]
     },
     "execution_count": 134,
     "metadata": {},
     "output_type": "execute_result"
    }
   ],
   "source": [
    "names = [\"Guilherme\", \"Daniela\", \"Paulo\"]\n",
    "sorted(names)"
   ]
  },
  {
   "cell_type": "code",
   "execution_count": 135,
   "metadata": {},
   "outputs": [],
   "source": [
    "class SalaryAccount:\n",
    "    def __init__(self, code):\n",
    "        self._code = code\n",
    "        self._balance = 0\n",
    "\n",
    "    def __eq__(self, other):\n",
    "        if type(other) != SalaryAccount:\n",
    "            return False\n",
    "        \n",
    "        return self._code == other._code and self._balance == other._balance\n",
    "\n",
    "    def deposit(self, value):\n",
    "        self._balance += value\n",
    "\n",
    "    def __str__(self):\n",
    "        return f\"[>>Code {self._code} Balance {self._balance}<<]\""
   ]
  },
  {
   "cell_type": "code",
   "execution_count": 136,
   "metadata": {},
   "outputs": [],
   "source": [
    "guilherme_account = SalaryAccount(17)\n",
    "guilherme_account.deposit(500)\n",
    "\n",
    "daniela_account = SalaryAccount(3)\n",
    "daniela_account.deposit(1000)\n",
    "\n",
    "paulo_account = SalaryAccount(133)\n",
    "paulo_account.deposit(510)\n",
    "\n",
    "accounts = [guilherme_account, daniela_account, paulo_account]"
   ]
  },
  {
   "cell_type": "code",
   "execution_count": 137,
   "metadata": {},
   "outputs": [
    {
     "name": "stdout",
     "output_type": "stream",
     "text": [
      "[>>Code 17 Balance 500<<]\n",
      "[>>Code 3 Balance 1000<<]\n",
      "[>>Code 133 Balance 510<<]\n"
     ]
    }
   ],
   "source": [
    "for account in accounts:\n",
    "    print(account)"
   ]
  },
  {
   "cell_type": "code",
   "execution_count": 138,
   "metadata": {},
   "outputs": [
    {
     "ename": "TypeError",
     "evalue": "'<' not supported between instances of 'SalaryAccount' and 'SalaryAccount'",
     "output_type": "error",
     "traceback": [
      "\u001b[0;31m---------------------------------------------------------------------------\u001b[0m",
      "\u001b[0;31mTypeError\u001b[0m                                 Traceback (most recent call last)",
      "\u001b[1;32m/home/alvesgf16/it/alura/cursos/programacao/python/collections/introduction-to-collections.ipynb Cell 142\u001b[0m in \u001b[0;36m<cell line: 1>\u001b[0;34m()\u001b[0m\n\u001b[0;32m----> <a href='vscode-notebook-cell:/home/alvesgf16/it/alura/cursos/programacao/python/collections/introduction-to-collections.ipynb#Y261sZmlsZQ%3D%3D?line=0'>1</a>\u001b[0m \u001b[39msorted\u001b[39;49m(accounts)\n",
      "\u001b[0;31mTypeError\u001b[0m: '<' not supported between instances of 'SalaryAccount' and 'SalaryAccount'"
     ]
    }
   ],
   "source": [
    "sorted(accounts)"
   ]
  },
  {
   "cell_type": "code",
   "execution_count": 139,
   "metadata": {},
   "outputs": [
    {
     "name": "stdout",
     "output_type": "stream",
     "text": [
      "[>>Code 17 Balance 500<<]\n",
      "[>>Code 133 Balance 510<<]\n",
      "[>>Code 3 Balance 1000<<]\n"
     ]
    }
   ],
   "source": [
    "def extract_balance(account):\n",
    "    return account._balance\n",
    "\n",
    "for account in sorted(accounts, key=extract_balance):\n",
    "    print(account)"
   ]
  },
  {
   "cell_type": "code",
   "execution_count": 140,
   "metadata": {},
   "outputs": [
    {
     "name": "stdout",
     "output_type": "stream",
     "text": [
      "[>>Code 17 Balance 500<<]\n",
      "[>>Code 133 Balance 510<<]\n",
      "[>>Code 3 Balance 1000<<]\n"
     ]
    }
   ],
   "source": [
    "from operator import attrgetter\n",
    "\n",
    "for account in sorted(accounts, key=attrgetter(\"_balance\")):\n",
    "    print(account)"
   ]
  },
  {
   "cell_type": "code",
   "execution_count": 141,
   "metadata": {},
   "outputs": [
    {
     "ename": "TypeError",
     "evalue": "'<' not supported between instances of 'SalaryAccount' and 'SalaryAccount'",
     "output_type": "error",
     "traceback": [
      "\u001b[0;31m---------------------------------------------------------------------------\u001b[0m",
      "\u001b[0;31mTypeError\u001b[0m                                 Traceback (most recent call last)",
      "\u001b[1;32m/home/alvesgf16/it/alura/cursos/programacao/python/collections/introduction-to-collections.ipynb Cell 145\u001b[0m in \u001b[0;36m<cell line: 1>\u001b[0;34m()\u001b[0m\n\u001b[0;32m----> <a href='vscode-notebook-cell:/home/alvesgf16/it/alura/cursos/programacao/python/collections/introduction-to-collections.ipynb#Y264sZmlsZQ%3D%3D?line=0'>1</a>\u001b[0m guilherme_account \u001b[39m<\u001b[39;49m daniela_account\n",
      "\u001b[0;31mTypeError\u001b[0m: '<' not supported between instances of 'SalaryAccount' and 'SalaryAccount'"
     ]
    }
   ],
   "source": [
    "guilherme_account < daniela_account"
   ]
  },
  {
   "cell_type": "code",
   "execution_count": 142,
   "metadata": {},
   "outputs": [],
   "source": [
    "class SalaryAccount:\n",
    "    def __init__(self, code):\n",
    "        self._code = code\n",
    "        self._balance = 0\n",
    "\n",
    "    def __eq__(self, other):\n",
    "        if type(other) != SalaryAccount:\n",
    "            return False\n",
    "        \n",
    "        return self._code == other._code and self._balance == other._balance\n",
    "    \n",
    "    def __lt__(self, other):\n",
    "        return self._balance < other._balance\n",
    "\n",
    "    def deposit(self, value):\n",
    "        self._balance += value\n",
    "\n",
    "    def __str__(self):\n",
    "        return f\"[>>Code {self._code} Balance {self._balance}<<]\""
   ]
  },
  {
   "cell_type": "code",
   "execution_count": 143,
   "metadata": {},
   "outputs": [],
   "source": [
    "guilherme_account = SalaryAccount(17)\n",
    "guilherme_account.deposit(500)\n",
    "\n",
    "daniela_account = SalaryAccount(3)\n",
    "daniela_account.deposit(1000)\n",
    "\n",
    "paulo_account = SalaryAccount(133)\n",
    "paulo_account.deposit(510)\n",
    "\n",
    "accounts = [guilherme_account, daniela_account, paulo_account]"
   ]
  },
  {
   "cell_type": "code",
   "execution_count": 144,
   "metadata": {},
   "outputs": [
    {
     "data": {
      "text/plain": [
       "True"
      ]
     },
     "execution_count": 144,
     "metadata": {},
     "output_type": "execute_result"
    }
   ],
   "source": [
    "guilherme_account < daniela_account"
   ]
  },
  {
   "cell_type": "code",
   "execution_count": 145,
   "metadata": {},
   "outputs": [
    {
     "data": {
      "text/plain": [
       "False"
      ]
     },
     "execution_count": 145,
     "metadata": {},
     "output_type": "execute_result"
    }
   ],
   "source": [
    "guilherme_account > daniela_account"
   ]
  },
  {
   "cell_type": "code",
   "execution_count": 146,
   "metadata": {},
   "outputs": [
    {
     "name": "stdout",
     "output_type": "stream",
     "text": [
      "[>>Code 17 Balance 500<<]\n",
      "[>>Code 133 Balance 510<<]\n",
      "[>>Code 3 Balance 1000<<]\n"
     ]
    }
   ],
   "source": [
    "for account in sorted(accounts):\n",
    "    print(account)"
   ]
  },
  {
   "cell_type": "code",
   "execution_count": 147,
   "metadata": {},
   "outputs": [
    {
     "name": "stdout",
     "output_type": "stream",
     "text": [
      "[>>Code 3 Balance 1000<<]\n",
      "[>>Code 133 Balance 510<<]\n",
      "[>>Code 17 Balance 500<<]\n"
     ]
    }
   ],
   "source": [
    "for account in sorted(accounts, reverse=True):\n",
    "    print(account)"
   ]
  },
  {
   "cell_type": "code",
   "execution_count": 148,
   "metadata": {},
   "outputs": [],
   "source": [
    "guilherme_account = SalaryAccount(1700)\n",
    "guilherme_account.deposit(500)\n",
    "\n",
    "daniela_account = SalaryAccount(3)\n",
    "daniela_account.deposit(1000)\n",
    "\n",
    "paulo_account = SalaryAccount(133)\n",
    "paulo_account.deposit(500)\n",
    "\n",
    "accounts = [guilherme_account, daniela_account, paulo_account]"
   ]
  },
  {
   "cell_type": "code",
   "execution_count": 149,
   "metadata": {},
   "outputs": [
    {
     "name": "stdout",
     "output_type": "stream",
     "text": [
      "[>>Code 133 Balance 500<<]\n",
      "[>>Code 1700 Balance 500<<]\n",
      "[>>Code 3 Balance 1000<<]\n"
     ]
    }
   ],
   "source": [
    "for account in sorted(accounts, key=attrgetter(\"_balance\", \"_code\")):\n",
    "    print(account)"
   ]
  },
  {
   "cell_type": "code",
   "execution_count": 150,
   "metadata": {},
   "outputs": [],
   "source": [
    "guilherme_account = SalaryAccount(1700)\n",
    "guilherme_account.deposit(500)\n",
    "\n",
    "daniela_account = SalaryAccount(3)\n",
    "daniela_account.deposit(500)\n",
    "\n",
    "paulo_account = SalaryAccount(133)\n",
    "paulo_account.deposit(500)\n",
    "\n",
    "accounts = [guilherme_account, daniela_account, paulo_account]"
   ]
  },
  {
   "cell_type": "code",
   "execution_count": 151,
   "metadata": {},
   "outputs": [
    {
     "name": "stdout",
     "output_type": "stream",
     "text": [
      "[>>Code 3 Balance 500<<]\n",
      "[>>Code 133 Balance 500<<]\n",
      "[>>Code 1700 Balance 500<<]\n"
     ]
    }
   ],
   "source": [
    "for account in sorted(accounts, key=attrgetter(\"_balance\", \"_code\")):\n",
    "    print(account)"
   ]
  },
  {
   "cell_type": "code",
   "execution_count": 152,
   "metadata": {},
   "outputs": [],
   "source": [
    "class SalaryAccount:\n",
    "    def __init__(self, code):\n",
    "        self._code = code\n",
    "        self._balance = 0\n",
    "\n",
    "    def __eq__(self, other):\n",
    "        if type(other) != SalaryAccount:\n",
    "            return False\n",
    "        \n",
    "        return self._code == other._code and self._balance == other._balance\n",
    "    \n",
    "    def __lt__(self, other):\n",
    "        if (self._balance != other._balance):\n",
    "            return self._balance < other._balance\n",
    "        \n",
    "        return self._code < other._code\n",
    "\n",
    "    def deposit(self, value):\n",
    "        self._balance += value\n",
    "\n",
    "    def __str__(self):\n",
    "        return f\"[>>Code {self._code} Balance {self._balance}<<]\""
   ]
  },
  {
   "cell_type": "code",
   "execution_count": 153,
   "metadata": {},
   "outputs": [],
   "source": [
    "guilherme_account = SalaryAccount(1700)\n",
    "guilherme_account.deposit(500)\n",
    "\n",
    "daniela_account = SalaryAccount(3)\n",
    "daniela_account.deposit(500)\n",
    "\n",
    "paulo_account = SalaryAccount(133)\n",
    "paulo_account.deposit(500)\n",
    "\n",
    "accounts = [guilherme_account, daniela_account, paulo_account]"
   ]
  },
  {
   "cell_type": "code",
   "execution_count": 154,
   "metadata": {},
   "outputs": [
    {
     "name": "stdout",
     "output_type": "stream",
     "text": [
      "[>>Code 3 Balance 500<<]\n",
      "[>>Code 133 Balance 500<<]\n",
      "[>>Code 1700 Balance 500<<]\n"
     ]
    }
   ],
   "source": [
    "for account in sorted(accounts):\n",
    "    print(account)"
   ]
  },
  {
   "cell_type": "code",
   "execution_count": 155,
   "metadata": {},
   "outputs": [],
   "source": [
    "guilherme_account = SalaryAccount(1700)\n",
    "guilherme_account.deposit(500)\n",
    "\n",
    "daniela_account = SalaryAccount(3)\n",
    "daniela_account.deposit(1000)\n",
    "\n",
    "paulo_account = SalaryAccount(133)\n",
    "paulo_account.deposit(500)\n",
    "\n",
    "accounts = [guilherme_account, daniela_account, paulo_account]"
   ]
  },
  {
   "cell_type": "code",
   "execution_count": 156,
   "metadata": {},
   "outputs": [
    {
     "name": "stdout",
     "output_type": "stream",
     "text": [
      "[>>Code 133 Balance 500<<]\n",
      "[>>Code 1700 Balance 500<<]\n",
      "[>>Code 3 Balance 1000<<]\n"
     ]
    }
   ],
   "source": [
    "for account in sorted(accounts):\n",
    "    print(account)"
   ]
  },
  {
   "cell_type": "code",
   "execution_count": 157,
   "metadata": {},
   "outputs": [
    {
     "data": {
      "text/plain": [
       "True"
      ]
     },
     "execution_count": 157,
     "metadata": {},
     "output_type": "execute_result"
    }
   ],
   "source": [
    "guilherme_account < daniela_account"
   ]
  },
  {
   "cell_type": "code",
   "execution_count": 158,
   "metadata": {},
   "outputs": [
    {
     "ename": "TypeError",
     "evalue": "'<=' not supported between instances of 'SalaryAccount' and 'SalaryAccount'",
     "output_type": "error",
     "traceback": [
      "\u001b[0;31m---------------------------------------------------------------------------\u001b[0m",
      "\u001b[0;31mTypeError\u001b[0m                                 Traceback (most recent call last)",
      "\u001b[1;32m/home/alvesgf16/it/alura/cursos/programacao/python/collections/introduction-to-collections.ipynb Cell 162\u001b[0m in \u001b[0;36m<cell line: 1>\u001b[0;34m()\u001b[0m\n\u001b[0;32m----> <a href='vscode-notebook-cell:/home/alvesgf16/it/alura/cursos/programacao/python/collections/introduction-to-collections.ipynb#Y320sZmlsZQ%3D%3D?line=0'>1</a>\u001b[0m guilherme_account \u001b[39m<\u001b[39;49m\u001b[39m=\u001b[39;49m daniela_account\n",
      "\u001b[0;31mTypeError\u001b[0m: '<=' not supported between instances of 'SalaryAccount' and 'SalaryAccount'"
     ]
    }
   ],
   "source": [
    "guilherme_account <= daniela_account"
   ]
  },
  {
   "cell_type": "code",
   "execution_count": 159,
   "metadata": {},
   "outputs": [],
   "source": [
    "from functools import total_ordering\n",
    "\n",
    "@total_ordering\n",
    "class SalaryAccount:\n",
    "    def __init__(self, code):\n",
    "        self._code = code\n",
    "        self._balance = 0\n",
    "\n",
    "    def __eq__(self, other):\n",
    "        if type(other) != SalaryAccount:\n",
    "            return False\n",
    "        \n",
    "        return self._code == other._code and self._balance == other._balance\n",
    "    \n",
    "    def __lt__(self, other):\n",
    "        if (self._balance != other._balance):\n",
    "            return self._balance < other._balance\n",
    "        \n",
    "        return self._code < other._code\n",
    "        \n",
    "    def deposit(self, value):\n",
    "        self._balance += value\n",
    "\n",
    "    def __str__(self):\n",
    "        return f\"[>>Code {self._code} Balance {self._balance}<<]\""
   ]
  },
  {
   "cell_type": "code",
   "execution_count": 160,
   "metadata": {},
   "outputs": [],
   "source": [
    "guilherme_account = SalaryAccount(1700)\n",
    "guilherme_account.deposit(500)\n",
    "\n",
    "daniela_account = SalaryAccount(3)\n",
    "daniela_account.deposit(1000)\n",
    "\n",
    "paulo_account = SalaryAccount(133)\n",
    "paulo_account.deposit(500)\n",
    "\n",
    "accounts = [guilherme_account, daniela_account, paulo_account]"
   ]
  },
  {
   "cell_type": "code",
   "execution_count": 161,
   "metadata": {},
   "outputs": [
    {
     "data": {
      "text/plain": [
       "True"
      ]
     },
     "execution_count": 161,
     "metadata": {},
     "output_type": "execute_result"
    }
   ],
   "source": [
    "guilherme_account <= daniela_account"
   ]
  },
  {
   "cell_type": "code",
   "execution_count": 162,
   "metadata": {},
   "outputs": [
    {
     "data": {
      "text/plain": [
       "False"
      ]
     },
     "execution_count": 162,
     "metadata": {},
     "output_type": "execute_result"
    }
   ],
   "source": [
    "guilherme_account <= paulo_account"
   ]
  },
  {
   "cell_type": "code",
   "execution_count": 163,
   "metadata": {},
   "outputs": [
    {
     "data": {
      "text/plain": [
       "False"
      ]
     },
     "execution_count": 163,
     "metadata": {},
     "output_type": "execute_result"
    }
   ],
   "source": [
    "guilherme_account < guilherme_account"
   ]
  },
  {
   "cell_type": "code",
   "execution_count": 164,
   "metadata": {},
   "outputs": [
    {
     "data": {
      "text/plain": [
       "True"
      ]
     },
     "execution_count": 164,
     "metadata": {},
     "output_type": "execute_result"
    }
   ],
   "source": [
    "guilherme_account == guilherme_account"
   ]
  },
  {
   "cell_type": "code",
   "execution_count": 165,
   "metadata": {},
   "outputs": [
    {
     "data": {
      "text/plain": [
       "True"
      ]
     },
     "execution_count": 165,
     "metadata": {},
     "output_type": "execute_result"
    }
   ],
   "source": [
    "guilherme_account <= guilherme_account"
   ]
  },
  {
   "cell_type": "code",
   "execution_count": 166,
   "metadata": {},
   "outputs": [],
   "source": [
    "data_science_users = [15, 23, 43, 56]\n",
    "machine_learning_users = [13, 23, 56, 42]"
   ]
  },
  {
   "cell_type": "code",
   "execution_count": 167,
   "metadata": {},
   "outputs": [
    {
     "data": {
      "text/plain": [
       "[15, 23, 43, 56, 13, 23, 56, 42]"
      ]
     },
     "execution_count": 167,
     "metadata": {},
     "output_type": "execute_result"
    }
   ],
   "source": [
    "watched = data_science_users.copy()\n",
    "watched.extend(machine_learning_users)\n",
    "watched"
   ]
  },
  {
   "cell_type": "code",
   "execution_count": 168,
   "metadata": {},
   "outputs": [
    {
     "data": {
      "text/plain": [
       "8"
      ]
     },
     "execution_count": 168,
     "metadata": {},
     "output_type": "execute_result"
    }
   ],
   "source": [
    "len(watched)"
   ]
  },
  {
   "cell_type": "code",
   "execution_count": 169,
   "metadata": {},
   "outputs": [
    {
     "data": {
      "text/plain": [
       "{13, 15, 23, 42, 43, 56}"
      ]
     },
     "execution_count": 169,
     "metadata": {},
     "output_type": "execute_result"
    }
   ],
   "source": [
    "set(watched)"
   ]
  },
  {
   "cell_type": "code",
   "execution_count": 170,
   "metadata": {},
   "outputs": [
    {
     "data": {
      "text/plain": [
       "{1, 2, 3}"
      ]
     },
     "execution_count": 170,
     "metadata": {},
     "output_type": "execute_result"
    }
   ],
   "source": [
    "set([1, 2, 3, 1])"
   ]
  },
  {
   "cell_type": "code",
   "execution_count": 171,
   "metadata": {},
   "outputs": [
    {
     "data": {
      "text/plain": [
       "{1, 2, 3, 4}"
      ]
     },
     "execution_count": 171,
     "metadata": {},
     "output_type": "execute_result"
    }
   ],
   "source": [
    "{4, 1, 2, 3, 1}"
   ]
  },
  {
   "cell_type": "code",
   "execution_count": 172,
   "metadata": {},
   "outputs": [
    {
     "data": {
      "text/plain": [
       "set"
      ]
     },
     "execution_count": 172,
     "metadata": {},
     "output_type": "execute_result"
    }
   ],
   "source": [
    "type({1, 2})"
   ]
  },
  {
   "cell_type": "code",
   "execution_count": 173,
   "metadata": {},
   "outputs": [],
   "source": [
    "data_science_users = {15, 23, 43, 56}\n",
    "machine_learning_users = {13, 23, 56, 42}"
   ]
  },
  {
   "cell_type": "code",
   "execution_count": 174,
   "metadata": {},
   "outputs": [
    {
     "data": {
      "text/plain": [
       "{13, 23, 42, 56}"
      ]
     },
     "execution_count": 174,
     "metadata": {},
     "output_type": "execute_result"
    }
   ],
   "source": [
    "machine_learning_users"
   ]
  },
  {
   "cell_type": "code",
   "execution_count": 175,
   "metadata": {},
   "outputs": [
    {
     "ename": "TypeError",
     "evalue": "'set' object is not subscriptable",
     "output_type": "error",
     "traceback": [
      "\u001b[0;31m---------------------------------------------------------------------------\u001b[0m",
      "\u001b[0;31mTypeError\u001b[0m                                 Traceback (most recent call last)",
      "\u001b[1;32m/home/alvesgf16/it/alura/cursos/programacao/python/collections/introduction-to-collections.ipynb Cell 179\u001b[0m in \u001b[0;36m<cell line: 1>\u001b[0;34m()\u001b[0m\n\u001b[0;32m----> <a href='vscode-notebook-cell:/home/alvesgf16/it/alura/cursos/programacao/python/collections/introduction-to-collections.ipynb#Y343sZmlsZQ%3D%3D?line=0'>1</a>\u001b[0m machine_learning_users[\u001b[39m3\u001b[39;49m]\n",
      "\u001b[0;31mTypeError\u001b[0m: 'set' object is not subscriptable"
     ]
    }
   ],
   "source": [
    "machine_learning_users[3]"
   ]
  },
  {
   "cell_type": "code",
   "execution_count": 176,
   "metadata": {},
   "outputs": [
    {
     "name": "stdout",
     "output_type": "stream",
     "text": [
      "42\n",
      "43\n",
      "13\n",
      "15\n",
      "23\n",
      "56\n"
     ]
    }
   ],
   "source": [
    "for user in set(watched):\n",
    "    print(user)"
   ]
  },
  {
   "cell_type": "code",
   "execution_count": 177,
   "metadata": {},
   "outputs": [],
   "source": [
    "data_science_users = {15, 23, 43, 56}\n",
    "machine_learning_users = {13, 23, 56, 42}"
   ]
  },
  {
   "cell_type": "code",
   "execution_count": 178,
   "metadata": {},
   "outputs": [
    {
     "data": {
      "text/plain": [
       "{13, 15, 23, 42, 43, 56}"
      ]
     },
     "execution_count": 178,
     "metadata": {},
     "output_type": "execute_result"
    }
   ],
   "source": [
    "data_science_users | machine_learning_users"
   ]
  },
  {
   "cell_type": "code",
   "execution_count": 179,
   "metadata": {},
   "outputs": [
    {
     "data": {
      "text/plain": [
       "{23, 56}"
      ]
     },
     "execution_count": 179,
     "metadata": {},
     "output_type": "execute_result"
    }
   ],
   "source": [
    "data_science_users & machine_learning_users"
   ]
  },
  {
   "cell_type": "code",
   "execution_count": 180,
   "metadata": {},
   "outputs": [
    {
     "data": {
      "text/plain": [
       "{15, 43}"
      ]
     },
     "execution_count": 180,
     "metadata": {},
     "output_type": "execute_result"
    }
   ],
   "source": [
    "data_science_users - machine_learning_users"
   ]
  },
  {
   "cell_type": "code",
   "execution_count": 181,
   "metadata": {},
   "outputs": [
    {
     "data": {
      "text/plain": [
       "True"
      ]
     },
     "execution_count": 181,
     "metadata": {},
     "output_type": "execute_result"
    }
   ],
   "source": [
    "took_ds_but_not_ml = data_science_users - machine_learning_users\n",
    "15 in took_ds_but_not_ml"
   ]
  },
  {
   "cell_type": "code",
   "execution_count": 182,
   "metadata": {},
   "outputs": [
    {
     "data": {
      "text/plain": [
       "False"
      ]
     },
     "execution_count": 182,
     "metadata": {},
     "output_type": "execute_result"
    }
   ],
   "source": [
    "23 in took_ds_but_not_ml"
   ]
  },
  {
   "cell_type": "code",
   "execution_count": 183,
   "metadata": {},
   "outputs": [
    {
     "data": {
      "text/plain": [
       "{13, 15, 42, 43}"
      ]
     },
     "execution_count": 183,
     "metadata": {},
     "output_type": "execute_result"
    }
   ],
   "source": [
    "data_science_users ^ machine_learning_users"
   ]
  },
  {
   "cell_type": "code",
   "execution_count": 184,
   "metadata": {},
   "outputs": [
    {
     "data": {
      "text/plain": [
       "7"
      ]
     },
     "execution_count": 184,
     "metadata": {},
     "output_type": "execute_result"
    }
   ],
   "source": [
    "users = {1, 5, 76, 34, 52, 13, 17}\n",
    "len(users)"
   ]
  },
  {
   "cell_type": "code",
   "execution_count": 186,
   "metadata": {},
   "outputs": [
    {
     "data": {
      "text/plain": [
       "7"
      ]
     },
     "execution_count": 186,
     "metadata": {},
     "output_type": "execute_result"
    }
   ],
   "source": [
    "users.add(13)\n",
    "len(users)"
   ]
  },
  {
   "cell_type": "code",
   "execution_count": 187,
   "metadata": {},
   "outputs": [
    {
     "data": {
      "text/plain": [
       "8"
      ]
     },
     "execution_count": 187,
     "metadata": {},
     "output_type": "execute_result"
    }
   ],
   "source": [
    "users.add(765)\n",
    "len(users)"
   ]
  },
  {
   "cell_type": "code",
   "execution_count": 188,
   "metadata": {},
   "outputs": [
    {
     "data": {
      "text/plain": [
       "{1, 5, 13, 17, 34, 52, 76, 765}"
      ]
     },
     "execution_count": 188,
     "metadata": {},
     "output_type": "execute_result"
    }
   ],
   "source": [
    "users"
   ]
  },
  {
   "cell_type": "code",
   "execution_count": 189,
   "metadata": {},
   "outputs": [
    {
     "data": {
      "text/plain": [
       "frozenset({1, 5, 13, 17, 34, 52, 76, 765})"
      ]
     },
     "execution_count": 189,
     "metadata": {},
     "output_type": "execute_result"
    }
   ],
   "source": [
    "users = frozenset(users)\n",
    "users"
   ]
  },
  {
   "cell_type": "code",
   "execution_count": 190,
   "metadata": {},
   "outputs": [
    {
     "data": {
      "text/plain": [
       "frozenset"
      ]
     },
     "execution_count": 190,
     "metadata": {},
     "output_type": "execute_result"
    }
   ],
   "source": [
    "type(users)"
   ]
  },
  {
   "cell_type": "code",
   "execution_count": 191,
   "metadata": {},
   "outputs": [
    {
     "ename": "AttributeError",
     "evalue": "'frozenset' object has no attribute 'add'",
     "output_type": "error",
     "traceback": [
      "\u001b[0;31m---------------------------------------------------------------------------\u001b[0m",
      "\u001b[0;31mAttributeError\u001b[0m                            Traceback (most recent call last)",
      "\u001b[1;32m/home/alvesgf16/it/alura/cursos/programacao/python/collections/introduction-to-collections.ipynb Cell 193\u001b[0m in \u001b[0;36m<cell line: 1>\u001b[0;34m()\u001b[0m\n\u001b[0;32m----> <a href='vscode-notebook-cell:/home/alvesgf16/it/alura/cursos/programacao/python/collections/introduction-to-collections.ipynb#Y364sZmlsZQ%3D%3D?line=0'>1</a>\u001b[0m users\u001b[39m.\u001b[39;49madd(\u001b[39m134\u001b[39m)\n",
      "\u001b[0;31mAttributeError\u001b[0m: 'frozenset' object has no attribute 'add'"
     ]
    }
   ],
   "source": [
    "users.add(134)"
   ]
  },
  {
   "cell_type": "code",
   "execution_count": 226,
   "metadata": {},
   "outputs": [
    {
     "data": {
      "text/plain": [
       "['Welcome',\n",
       " 'my',\n",
       " 'name',\n",
       " 'is',\n",
       " 'Gabriel',\n",
       " 'I',\n",
       " 'like',\n",
       " 'names',\n",
       " 'a',\n",
       " 'lot',\n",
       " 'and',\n",
       " 'I',\n",
       " 'have',\n",
       " 'my',\n",
       " 'dogs',\n",
       " 'and',\n",
       " 'I',\n",
       " 'like',\n",
       " 'dogs',\n",
       " 'a',\n",
       " 'lot']"
      ]
     },
     "execution_count": 226,
     "metadata": {},
     "output_type": "execute_result"
    }
   ],
   "source": [
    "my_text = \"Welcome my name is Gabriel I like names a lot and I have my dogs and I like dogs a lot\"\n",
    "my_text.split()"
   ]
  },
  {
   "cell_type": "code",
   "execution_count": 227,
   "metadata": {},
   "outputs": [
    {
     "data": {
      "text/plain": [
       "{'Gabriel',\n",
       " 'I',\n",
       " 'Welcome',\n",
       " 'a',\n",
       " 'and',\n",
       " 'dogs',\n",
       " 'have',\n",
       " 'is',\n",
       " 'like',\n",
       " 'lot',\n",
       " 'my',\n",
       " 'name',\n",
       " 'names'}"
      ]
     },
     "execution_count": 227,
     "metadata": {},
     "output_type": "execute_result"
    }
   ],
   "source": [
    "set(my_text.split())"
   ]
  },
  {
   "cell_type": "markdown",
   "metadata": {},
   "source": [
    "# Dicionário (Mapa etc.)"
   ]
  },
  {
   "cell_type": "code",
   "execution_count": 228,
   "metadata": {},
   "outputs": [],
   "source": [
    "appearances = {\n",
    "    \"Gabriel\": 1,\n",
    "    \"dogs\": 2,\n",
    "    \"name\": 2,\n",
    "    \"Welcome\": 1\n",
    "}"
   ]
  },
  {
   "cell_type": "code",
   "execution_count": 229,
   "metadata": {},
   "outputs": [
    {
     "data": {
      "text/plain": [
       "dict"
      ]
     },
     "execution_count": 229,
     "metadata": {},
     "output_type": "execute_result"
    }
   ],
   "source": [
    "type(appearances)"
   ]
  },
  {
   "cell_type": "code",
   "execution_count": 230,
   "metadata": {},
   "outputs": [
    {
     "data": {
      "text/plain": [
       "1"
      ]
     },
     "execution_count": 230,
     "metadata": {},
     "output_type": "execute_result"
    }
   ],
   "source": [
    "appearances[\"Gabriel\"]"
   ]
  },
  {
   "cell_type": "code",
   "execution_count": 231,
   "metadata": {},
   "outputs": [
    {
     "data": {
      "text/plain": [
       "2"
      ]
     },
     "execution_count": 231,
     "metadata": {},
     "output_type": "execute_result"
    }
   ],
   "source": [
    "appearances[\"dogs\"]"
   ]
  },
  {
   "cell_type": "code",
   "execution_count": 232,
   "metadata": {},
   "outputs": [
    {
     "ename": "KeyError",
     "evalue": "'xpto'",
     "output_type": "error",
     "traceback": [
      "\u001b[0;31m---------------------------------------------------------------------------\u001b[0m",
      "\u001b[0;31mKeyError\u001b[0m                                  Traceback (most recent call last)",
      "\u001b[1;32m/home/alvesgf16/it/alura/cursos/programacao/python/collections/introduction-to-collections.ipynb Cell 201\u001b[0m in \u001b[0;36m<cell line: 1>\u001b[0;34m()\u001b[0m\n\u001b[0;32m----> <a href='vscode-notebook-cell:/home/alvesgf16/it/alura/cursos/programacao/python/collections/introduction-to-collections.ipynb#Y410sZmlsZQ%3D%3D?line=0'>1</a>\u001b[0m appearances[\u001b[39m\"\u001b[39;49m\u001b[39mxpto\u001b[39;49m\u001b[39m\"\u001b[39;49m]\n",
      "\u001b[0;31mKeyError\u001b[0m: 'xpto'"
     ]
    }
   ],
   "source": [
    "appearances[\"xpto\"]"
   ]
  },
  {
   "cell_type": "code",
   "execution_count": 233,
   "metadata": {},
   "outputs": [
    {
     "data": {
      "text/plain": [
       "0"
      ]
     },
     "execution_count": 233,
     "metadata": {},
     "output_type": "execute_result"
    }
   ],
   "source": [
    "appearances.get(\"xpto\", 0)"
   ]
  },
  {
   "cell_type": "code",
   "execution_count": 234,
   "metadata": {},
   "outputs": [
    {
     "data": {
      "text/plain": [
       "2"
      ]
     },
     "execution_count": 234,
     "metadata": {},
     "output_type": "execute_result"
    }
   ],
   "source": [
    "appearances.get(\"dogs\", 0)"
   ]
  },
  {
   "cell_type": "code",
   "execution_count": 235,
   "metadata": {},
   "outputs": [
    {
     "data": {
      "text/plain": [
       "{'Gabriel': 2, 'dog': 1}"
      ]
     },
     "execution_count": 235,
     "metadata": {},
     "output_type": "execute_result"
    }
   ],
   "source": [
    "appearances = dict(Gabriel=2, dog=1)\n",
    "appearances"
   ]
  },
  {
   "cell_type": "code",
   "execution_count": 236,
   "metadata": {},
   "outputs": [],
   "source": [
    "appearances = {\n",
    "    \"Gabriel\": 1,\n",
    "    \"dogs\": 2,\n",
    "    \"name\": 2,\n",
    "    \"Welcome\": 1\n",
    "}"
   ]
  },
  {
   "cell_type": "code",
   "execution_count": 237,
   "metadata": {},
   "outputs": [],
   "source": [
    "appearances[\"Carlos\"] = 1"
   ]
  },
  {
   "cell_type": "code",
   "execution_count": 238,
   "metadata": {},
   "outputs": [
    {
     "data": {
      "text/plain": [
       "{'Gabriel': 1, 'dogs': 2, 'name': 2, 'Welcome': 1, 'Carlos': 1}"
      ]
     },
     "execution_count": 238,
     "metadata": {},
     "output_type": "execute_result"
    }
   ],
   "source": [
    "appearances"
   ]
  },
  {
   "cell_type": "code",
   "execution_count": 239,
   "metadata": {},
   "outputs": [],
   "source": [
    "appearances[\"Carlos\"] = 2"
   ]
  },
  {
   "cell_type": "code",
   "execution_count": 240,
   "metadata": {},
   "outputs": [
    {
     "data": {
      "text/plain": [
       "{'Gabriel': 1, 'dogs': 2, 'name': 2, 'Welcome': 1, 'Carlos': 2}"
      ]
     },
     "execution_count": 240,
     "metadata": {},
     "output_type": "execute_result"
    }
   ],
   "source": [
    "appearances"
   ]
  },
  {
   "cell_type": "code",
   "execution_count": 241,
   "metadata": {},
   "outputs": [],
   "source": [
    "del appearances[\"Carlos\"]"
   ]
  },
  {
   "cell_type": "code",
   "execution_count": 242,
   "metadata": {},
   "outputs": [
    {
     "data": {
      "text/plain": [
       "{'Gabriel': 1, 'dogs': 2, 'name': 2, 'Welcome': 1}"
      ]
     },
     "execution_count": 242,
     "metadata": {},
     "output_type": "execute_result"
    }
   ],
   "source": [
    "appearances"
   ]
  },
  {
   "cell_type": "code",
   "execution_count": 243,
   "metadata": {},
   "outputs": [
    {
     "data": {
      "text/plain": [
       "True"
      ]
     },
     "execution_count": 243,
     "metadata": {},
     "output_type": "execute_result"
    }
   ],
   "source": [
    "\"dogs\" in appearances"
   ]
  },
  {
   "cell_type": "code",
   "execution_count": 244,
   "metadata": {},
   "outputs": [
    {
     "data": {
      "text/plain": [
       "False"
      ]
     },
     "execution_count": 244,
     "metadata": {},
     "output_type": "execute_result"
    }
   ],
   "source": [
    "\"Carlos\" in appearances"
   ]
  },
  {
   "cell_type": "code",
   "execution_count": 245,
   "metadata": {},
   "outputs": [
    {
     "name": "stdout",
     "output_type": "stream",
     "text": [
      "Gabriel\n",
      "dogs\n",
      "name\n",
      "Welcome\n"
     ]
    }
   ],
   "source": [
    "for element in appearances:\n",
    "    print(element)"
   ]
  },
  {
   "cell_type": "code",
   "execution_count": 246,
   "metadata": {},
   "outputs": [
    {
     "name": "stdout",
     "output_type": "stream",
     "text": [
      "Gabriel\n",
      "dogs\n",
      "name\n",
      "Welcome\n"
     ]
    }
   ],
   "source": [
    "for element in appearances.keys():\n",
    "    print(element)"
   ]
  },
  {
   "cell_type": "code",
   "execution_count": 247,
   "metadata": {},
   "outputs": [
    {
     "name": "stdout",
     "output_type": "stream",
     "text": [
      "1\n",
      "2\n",
      "2\n",
      "1\n"
     ]
    }
   ],
   "source": [
    "for element in appearances.values():\n",
    "    print(element)"
   ]
  },
  {
   "cell_type": "code",
   "execution_count": 248,
   "metadata": {},
   "outputs": [
    {
     "data": {
      "text/plain": [
       "True"
      ]
     },
     "execution_count": 248,
     "metadata": {},
     "output_type": "execute_result"
    }
   ],
   "source": [
    "1 in appearances.values()"
   ]
  },
  {
   "cell_type": "code",
   "execution_count": 249,
   "metadata": {},
   "outputs": [
    {
     "name": "stdout",
     "output_type": "stream",
     "text": [
      "Gabriel 1\n",
      "dogs 2\n",
      "name 2\n",
      "Welcome 1\n"
     ]
    }
   ],
   "source": [
    "for element in appearances.keys():\n",
    "    value = appearances[element]\n",
    "    print(element, value)"
   ]
  },
  {
   "cell_type": "code",
   "execution_count": 250,
   "metadata": {},
   "outputs": [
    {
     "name": "stdout",
     "output_type": "stream",
     "text": [
      "('Gabriel', 1)\n",
      "('dogs', 2)\n",
      "('name', 2)\n",
      "('Welcome', 1)\n"
     ]
    }
   ],
   "source": [
    "for element in appearances.items():\n",
    "    print(element)"
   ]
  },
  {
   "cell_type": "code",
   "execution_count": 251,
   "metadata": {},
   "outputs": [
    {
     "name": "stdout",
     "output_type": "stream",
     "text": [
      "Gabriel = 1\n",
      "dogs = 2\n",
      "name = 2\n",
      "Welcome = 1\n"
     ]
    }
   ],
   "source": [
    "for key, value in appearances.items():\n",
    "    print(key, \"=\", value)"
   ]
  },
  {
   "cell_type": "code",
   "execution_count": 252,
   "metadata": {},
   "outputs": [
    {
     "data": {
      "text/plain": [
       "['word Gabriel', 'word dogs', 'word name', 'word Welcome']"
      ]
     },
     "execution_count": 252,
     "metadata": {},
     "output_type": "execute_result"
    }
   ],
   "source": [
    "[f\"word {key}\" for key in appearances.keys()]"
   ]
  },
  {
   "cell_type": "code",
   "execution_count": 253,
   "metadata": {},
   "outputs": [
    {
     "data": {
      "text/plain": [
       "{'welcome': 1,\n",
       " 'my': 2,\n",
       " 'name': 1,\n",
       " 'is': 1,\n",
       " 'gabriel': 1,\n",
       " 'i': 3,\n",
       " 'like': 2,\n",
       " 'names': 1,\n",
       " 'a': 2,\n",
       " 'lot': 2,\n",
       " 'and': 2,\n",
       " 'have': 1,\n",
       " 'dogs': 2}"
      ]
     },
     "execution_count": 253,
     "metadata": {},
     "output_type": "execute_result"
    }
   ],
   "source": [
    "my_text = \"Welcome my name is Gabriel I like names a lot and I have my dogs and I like dogs a lot\"\n",
    "my_text = my_text.lower()\n",
    "\n",
    "appearances = {}\n",
    "\n",
    "for word in my_text.split():\n",
    "    until_now = appearances.get(word, 0)\n",
    "    appearances[word] = until_now + 1\n",
    "\n",
    "appearances"
   ]
  },
  {
   "cell_type": "code",
   "execution_count": 255,
   "metadata": {},
   "outputs": [
    {
     "data": {
      "text/plain": [
       "defaultdict(int,\n",
       "            {'welcome': 1,\n",
       "             'my': 2,\n",
       "             'name': 1,\n",
       "             'is': 1,\n",
       "             'gabriel': 1,\n",
       "             'i': 3,\n",
       "             'like': 2,\n",
       "             'names': 1,\n",
       "             'a': 2,\n",
       "             'lot': 2,\n",
       "             'and': 2,\n",
       "             'have': 1,\n",
       "             'dogs': 2})"
      ]
     },
     "execution_count": 255,
     "metadata": {},
     "output_type": "execute_result"
    }
   ],
   "source": [
    "from collections import defaultdict\n",
    "\n",
    "appearances = defaultdict(int)\n",
    "\n",
    "for word in my_text.split():\n",
    "    until_now = appearances[word]\n",
    "    appearances[word] = until_now + 1\n",
    "\n",
    "appearances"
   ]
  },
  {
   "cell_type": "code",
   "execution_count": 256,
   "metadata": {},
   "outputs": [
    {
     "data": {
      "text/plain": [
       "0"
      ]
     },
     "execution_count": 256,
     "metadata": {},
     "output_type": "execute_result"
    }
   ],
   "source": [
    "int()"
   ]
  },
  {
   "cell_type": "code",
   "execution_count": 258,
   "metadata": {},
   "outputs": [
    {
     "data": {
      "text/plain": [
       "0"
      ]
     },
     "execution_count": 258,
     "metadata": {},
     "output_type": "execute_result"
    }
   ],
   "source": [
    "dictionary = defaultdict(int)\n",
    "dictionary['gabriel']"
   ]
  },
  {
   "cell_type": "code",
   "execution_count": 259,
   "metadata": {},
   "outputs": [
    {
     "data": {
      "text/plain": [
       "15"
      ]
     },
     "execution_count": 259,
     "metadata": {},
     "output_type": "execute_result"
    }
   ],
   "source": [
    "dictionary['gabriel'] = 15\n",
    "dictionary['gabriel']"
   ]
  },
  {
   "cell_type": "code",
   "execution_count": 260,
   "metadata": {},
   "outputs": [
    {
     "data": {
      "text/plain": [
       "defaultdict(int,\n",
       "            {'welcome': 1,\n",
       "             'my': 2,\n",
       "             'name': 1,\n",
       "             'is': 1,\n",
       "             'gabriel': 1,\n",
       "             'i': 3,\n",
       "             'like': 2,\n",
       "             'names': 1,\n",
       "             'a': 2,\n",
       "             'lot': 2,\n",
       "             'and': 2,\n",
       "             'have': 1,\n",
       "             'dogs': 2})"
      ]
     },
     "execution_count": 260,
     "metadata": {},
     "output_type": "execute_result"
    }
   ],
   "source": [
    "appearances = defaultdict(int)\n",
    "\n",
    "for word in my_text.split():\n",
    "    appearances[word] += 1\n",
    "\n",
    "appearances"
   ]
  },
  {
   "cell_type": "code",
   "execution_count": 263,
   "metadata": {},
   "outputs": [],
   "source": [
    "class Account:\n",
    "    def __init__(self):\n",
    "        print(\"Creating an account\")"
   ]
  },
  {
   "cell_type": "code",
   "execution_count": 264,
   "metadata": {},
   "outputs": [
    {
     "name": "stdout",
     "output_type": "stream",
     "text": [
      "Creating an account\n"
     ]
    },
    {
     "data": {
      "text/plain": [
       "<__main__.Account at 0x7fbec5d9f880>"
      ]
     },
     "execution_count": 264,
     "metadata": {},
     "output_type": "execute_result"
    }
   ],
   "source": [
    "accounts = defaultdict(Account)\n",
    "accounts[15]"
   ]
  },
  {
   "cell_type": "code",
   "execution_count": 265,
   "metadata": {},
   "outputs": [
    {
     "name": "stdout",
     "output_type": "stream",
     "text": [
      "Creating an account\n"
     ]
    },
    {
     "data": {
      "text/plain": [
       "<__main__.Account at 0x7fbec0499400>"
      ]
     },
     "execution_count": 265,
     "metadata": {},
     "output_type": "execute_result"
    }
   ],
   "source": [
    "accounts[17]"
   ]
  },
  {
   "cell_type": "code",
   "execution_count": 266,
   "metadata": {},
   "outputs": [
    {
     "data": {
      "text/plain": [
       "<__main__.Account at 0x7fbec5d9f880>"
      ]
     },
     "execution_count": 266,
     "metadata": {},
     "output_type": "execute_result"
    }
   ],
   "source": [
    "accounts[15]"
   ]
  },
  {
   "cell_type": "code",
   "execution_count": 267,
   "metadata": {},
   "outputs": [
    {
     "data": {
      "text/plain": [
       "Counter({'welcome': 1,\n",
       "         'my': 2,\n",
       "         'name': 1,\n",
       "         'is': 1,\n",
       "         'gabriel': 1,\n",
       "         'i': 3,\n",
       "         'like': 2,\n",
       "         'names': 1,\n",
       "         'a': 2,\n",
       "         'lot': 2,\n",
       "         'and': 2,\n",
       "         'have': 1,\n",
       "         'dogs': 2})"
      ]
     },
     "execution_count": 267,
     "metadata": {},
     "output_type": "execute_result"
    }
   ],
   "source": [
    "from collections import Counter\n",
    "\n",
    "appearances = Counter()\n",
    "\n",
    "for word in my_text.split():\n",
    "    appearances[word] += 1\n",
    "\n",
    "appearances"
   ]
  },
  {
   "cell_type": "code",
   "execution_count": 268,
   "metadata": {},
   "outputs": [
    {
     "data": {
      "text/plain": [
       "Counter({'welcome': 1,\n",
       "         'my': 2,\n",
       "         'name': 1,\n",
       "         'is': 1,\n",
       "         'gabriel': 1,\n",
       "         'i': 3,\n",
       "         'like': 2,\n",
       "         'names': 1,\n",
       "         'a': 2,\n",
       "         'lot': 2,\n",
       "         'and': 2,\n",
       "         'have': 1,\n",
       "         'dogs': 2})"
      ]
     },
     "execution_count": 268,
     "metadata": {},
     "output_type": "execute_result"
    }
   ],
   "source": [
    "appearances = Counter(my_text.split())\n",
    "\n",
    "appearances"
   ]
  },
  {
   "cell_type": "markdown",
   "metadata": {},
   "source": [
    "# Testing the use of multiple collections"
   ]
  },
  {
   "cell_type": "code",
   "execution_count": 281,
   "metadata": {},
   "outputs": [],
   "source": [
    "text1 = \"\"\"\n",
    "Para começar a fazer vendas online, uma empresa que fabrica adesivos criou uma página para pré cadastro de cartão de crédito que contém campos como nome, idade, endereço, CPF entre outros.\n",
    "\n",
    "O problema é que alguns cadastros não possuem um formato de CPF válido, isso porque o campo não possui nenhuma validação. Ou seja, o campo está aceitando não só números como letras e outros tipos de caractere.\n",
    "\n",
    "O que vamos fazer é encontrar uma maneira de ajudar o usuário de forma mais clara possível a preencher o cadastro e garantir a validação no front-end antes que os dados sejam enviados para o back-end.\n",
    "\n",
    "\n",
    "Como podemos notar não temos nenhuma validação, então fica confuso se devemos ou não colocar ponto ou traço no CPF e pode acontecer do usuário colocar outros caracteres no campo sem querer.\n",
    "\n",
    "Para isso evitar que isso ocorra vamos usar o atributo pattern do HTML5 que nos permite fazer uso das famosas expressões regulares que nada mais são que padrões utilizados para selecionar caracteres em uma string.\n",
    "\n",
    "Na nossa verificação vamos usar a lista [0-9], esse padrão indica que queremos os números de 0 até 9 e o intervalo {11}, indicando que temos que ter um número de 11 dígitos no nosso campo.\n",
    "\n",
    "Com a adição do pattern nosso campo de CPF ficou da seguinte maneira:\n",
    "\n",
    "\n",
    "Com a ajuda do pattern e das expressões regulares conseguimos resolver uma parte da tarefa, agora o que precisamos fazer encontrar uma maneira de formatar o CPF no padrão que precisamos enviar ao back-end.\n",
    "\n",
    "\n",
    "Mais um pouco de Regex\n",
    "\n",
    "Para começar vamos criar uma função que vai ser responsável por formatar o CPF. Dentro dessa função vamos ter as variáveis :\n",
    "\n",
    "elementoAlvo: responsável pelo parâmetro que vai ser passado na função\n",
    "cpfAtual: responsável por capturar os números do CPF digitados\n",
    "cpfAtualizado: responsável por receber o CPF formatado.\n",
    "\"\"\"\n"
   ]
  },
  {
   "cell_type": "code",
   "execution_count": 270,
   "metadata": {},
   "outputs": [],
   "source": [
    "text2 = \"\"\"\n",
    "Vamos imaginar uma empresa como o Nubank, seu nome é ByteBank. A primeira vista ela vende cartões de crédito e possui uma estratégia de marketing de conteúdo para seus clientes (Business to Consumer, B2C).\n",
    "\n",
    "Agora ela está lançando um novo cartão focado em empresas e quer criar uma estratégia de marketing de conteúdo para outras empresas (business to business, B2B).\n",
    "\n",
    "Como eles podem criar essa estratégia? É possível utilizar ideias e ferramentas do marketing de conteúdo B2C para o B2B?\n",
    "\n",
    "No marketing de conteúdo criado para B2C da ByteBank é muito enfatizado que as principais vantagens da empresa são:\n",
    "\n",
    "saber o limite na hora;\n",
    "não pagar qualquer tarifa e\n",
    "não ter que lidar com burocracia na hora de fazer o cartão.\n",
    "Então, todo o plano é focado em criar conteúdos sobre questões relacionadas ao mundo financeiro, para mostrar que a empresa é especialista no assunto, transmitindo uma confiança aos clientes.\n",
    "\n",
    "A equipe de marketing escreveu um texto no qual foram explicadas todas as taxas do cartão de crédito. Depois de explicar com detalhes o que é cada taxa, foi mostrado o porquê do cartão dessa empresa não cobrar nenhuma delas.\n",
    "\n",
    "Para mostrar na prática o quanto o consumidor economizaria, eles deram como um exemplo que mostram o que pode ser comprado com o dinheiro economizado em tarifas do cartão. Veja como ficou o texto:\n",
    "\n",
    "Se a tarifa é de 30 reais por mês, depois de um ano: 30 (tarifa) * 12 (meses) = 360, você gasta R$ 360,00 só em tarifas! Não seria muito melhor comprar um Kindle ou dois jogos para Playstation 4 ou, até mesmo, ir uma vez por mês ao cinema (e pagando inteira) com esse dinheiro em vez de pagá-lo em tarifas?\n",
    "\n",
    "Será que se pode fazer a mesma coisa para o B2B, já que não existem tarifas para empresas também?\n",
    "\n",
    "As empresas que querem comprar um produto precisam avaliar muito bem toda a compra, sempre se perguntando se aquele produto realmente compensa para ela, principalmente a longo prazo.\n",
    "\n",
    "Então, e se fosse dito coisas que a empresa poderia fazer com o dinheiro que também vão trazer um retorno financeiro, ao contrário das taxas dos bancos? Como fazer pesquisas com usuários, desenvolver novos produtos, treinar pessoas para marketing, entre outras coisas?\n",
    "\n",
    "Pensando nessas diferenças, utilizamos o mesmo exemplo: quanto seria economizado por ano pela empresa cliente. Porém, no texto inteiro, queremos também mostrar dicas de como ela pode poupar, de diversas maneiras, mesmo usando um cartão de crédito. Então, o exemplo de economia no texto ficou assim:\n",
    "\n",
    "Pensando que a tarifa para empresas é mais barata que para pessoas físicas, ou seja, de 30 reais, passa a ser 10 reais por cartão para cada colaborador, e dez cartões serão feitos, cada um pertencendo a colaborador, depois de um ano, serão pagos: 10 (de tarifa) * 10 (quantidade de cartões) * 12 (meses do ano) = 1200.\n",
    "\n",
    "Assim, a organização gastaria R$ 1.200,00 para manter os cartões durante esse período. Agora, se os cartões não possuem tarifa nenhuma, em vez de pagar esse valor, a empresa economizará R$1.200,00.\n",
    "\n",
    "Agora, com essa economia, você poderia investir em treinamentos ou eventos, que, após um tempo, poderiam aumentar ainda mais o retorno da empresa.\n",
    "\n",
    "Foi usada uma linguagem mais formal do que a B2C porque quando estamos lidando com empresas temos que ser mais práticos e mostrar exatamente o que a empresa ganha, e, no caso, até como poderia ganhar mais depois.\n",
    "\n",
    "Além dessa mudança na linguagem, tivemos ideias diferentes de conteúdo. No B2C foram apresentados conhecimentos a respeito de cada taxa, para que a pessoa entenda o que está pagando e confie em empresas que não cobra as taxas.\n",
    "\n",
    "Agora para B2B foram apresentadas formas para economizar no cartão, pois, muitas vezes, os empresários sabem o que é cada taxa do cartão e tem que utilizá-lo mesmo assim. Então, mostramos como ele pode economizar e, uma dessas formas, é usar o cartão da ByteBank.\n",
    "\n",
    "Nesse mesmo texto para B2B também acrescentamos o conteúdo de outra vantagem do cartão: poder determinar um limite de gastos para cada categoria nos cartões dos funcionários da empresa.\n",
    "\n",
    "Dessa forma, os funcionários não podem gastar mais do que o determinado e, assim, a empresa consegue economizar e planejar os gastos e não extrapolar com compras dos funcionários.\n",
    "\n",
    "O foco da comunicação B2B que utilizamos foi dar dicas para não cometer erros e economizar mais, para que a empresa perceba que utilizar o cartão é vantagem.\n",
    "\n",
    "E caso a sua empresa seja diferente da ByteBank, seja só B2B e não tenha nenhum plano de comunicação focado para B2C para se basear?\n",
    "\n",
    "Existem diversas empresas B2B:\n",
    "\n",
    "as que vendem tanto para B2B quanto para B2C, como a ByteBank;\n",
    "as que vendem para ambos os consumidores, mas possuem um foco maior no B2B, como a Marmotex, que tem como serviço entrega de marmitas e entregam tanto para consumidores quanto empresas, mas possuem um foco maior em organizações e catering  para eventos, ou seja, B2B\n",
    "as empresas somente B2B, como as de agências de publicidade.\n",
    "Cada uma das empresas que são B2B possui um produto e um serviço para mostrar.\n",
    "\n",
    "Então, caso você trabalhe em uma empresa que não possui um plano de marketing de conteúdo para B2C para se basear, é só seguir a ideia do marketing de conteúdo, de passar informações relacionados a sua empresa, tornando-a uma autoridade no assunto. E, além disso, mostrar maneiras que o seu produto e/ou serviço pode ajudar a empresa em determinado tema.\n",
    "\n",
    "No B2B, como no marketing de conteúdo focado no B2C, é importante frisar a importância e a relevância do produto e/ou serviço para o cliente. E, melhor, a longo prazo.\n",
    "\n",
    "A empresa cliente precisa entender e saber que a vantagem trazida pelo produto será duradoura. Pois o processo de compra B2B é mais longo justamente porque há muito em jogo e muitas pessoas envolvidas.\n",
    "\n",
    "Mudar de produto ou serviço é trabalhoso e pode causar prejuízo para a empresa, assim, eles buscam e precisam de garantias de que a solução funcionará por muito tempo.\n",
    "\n",
    "Assim, como no marketing B2C, os tipos de conteúdo devem se atentar aos clientes em cada fase do funil de marketing de conteúdo para trazer o conteúdo certo para a empresa em cada momento da obtenção do cartão.\n",
    "\n",
    "Para isso, a Bytebank utilizou dados, números, infográficos e mostrou com exemplos práticos maneiras de ajudar a contratante. Também escreveu conteúdos com histórias de empresas - os chamados cases de sucesso - que obtiveram lucro ou sucesso com o produto/serviço.\n",
    "\n",
    "Além disso, apresentou novidades e dicas tanto da sua empresa, que passou a fornecer uma conta para pessoas físicas e jurídicas, quanto do segmento dela, com informações que podem ser úteis ao cliente do setor financeiro.\n",
    "\n",
    "Como vimos, as principais diferenças entre os conteúdos B2C para o B2B são a linguagem, que deve ser mais formal se for B2B e apelar para o emocional se for B2C.\n",
    "\n",
    "No B2B você estará lidando com pessoas que tomam decisões nas empresas, então deverá mostrar como o produto pode ajudar a empresa, de preferência a longo prazo.\n",
    "\n",
    "Fora isso, o tipo de conteúdo pode ser o mesmo do marketing de conteúdo B2C. Passando desde textos sobre novidades, inovações e dicas na área, até infográficos com dados de pesquisas, vídeos, áudios de podcast, imagens e publicações nas redes sociais.\n",
    "\n",
    "Também, para conteúdo B2B, é muito comum encontrar whitepapers, grupos de usuários, meetups, cases de sucesso, trial gratuito, e até mesmo vídeos ou campanhas e posts de marketing com influenciadores.\n",
    "\"\"\""
   ]
  },
  {
   "cell_type": "code",
   "execution_count": 292,
   "metadata": {},
   "outputs": [],
   "source": [
    "def analyze_letter_frequency(text):\n",
    "    appearances = Counter(text.lower())\n",
    "    character_total = sum(appearances.values())\n",
    "\n",
    "    proportions = [(letter, frequency / character_total) for letter, frequency in appearances.items()]\n",
    "    proportions = Counter(dict(proportions))\n",
    "    most_common = proportions.most_common(10)\n",
    "    for character, proportion in most_common:\n",
    "        print(f\"{character} => {(proportion * 100):.2f}%\")\n"
   ]
  },
  {
   "cell_type": "code",
   "execution_count": 293,
   "metadata": {},
   "outputs": [
    {
     "name": "stdout",
     "output_type": "stream",
     "text": [
      "  => 16.14%\n",
      "a => 9.61%\n",
      "o => 9.45%\n",
      "e => 8.68%\n",
      "r => 6.75%\n",
      "s => 6.37%\n",
      "n => 4.17%\n",
      "m => 3.62%\n",
      "c => 3.57%\n",
      "u => 3.57%\n"
     ]
    }
   ],
   "source": [
    "analyze_letter_frequency(text1)"
   ]
  },
  {
   "cell_type": "code",
   "execution_count": 294,
   "metadata": {},
   "outputs": [
    {
     "name": "stdout",
     "output_type": "stream",
     "text": [
      "  => 16.29%\n",
      "a => 9.85%\n",
      "e => 9.40%\n",
      "o => 8.54%\n",
      "s => 6.73%\n",
      "r => 5.76%\n",
      "m => 4.45%\n",
      "t => 4.01%\n",
      "i => 3.99%\n",
      "n => 3.91%\n"
     ]
    }
   ],
   "source": [
    "analyze_letter_frequency(text2)"
   ]
  },
  {
   "cell_type": "code",
   "execution_count": null,
   "metadata": {},
   "outputs": [],
   "source": []
  }
 ],
 "metadata": {
  "kernelspec": {
   "display_name": "Python 3.9.12 ('base')",
   "language": "python",
   "name": "python3"
  },
  "language_info": {
   "codemirror_mode": {
    "name": "ipython",
    "version": 3
   },
   "file_extension": ".py",
   "mimetype": "text/x-python",
   "name": "python",
   "nbconvert_exporter": "python",
   "pygments_lexer": "ipython3",
   "version": "3.9.12"
  },
  "orig_nbformat": 4,
  "vscode": {
   "interpreter": {
    "hash": "1593f17c92647641b920ee13aaea9e56ce4056e56490c5eab24f8b7a00e22578"
   }
  }
 },
 "nbformat": 4,
 "nbformat_minor": 2
}
