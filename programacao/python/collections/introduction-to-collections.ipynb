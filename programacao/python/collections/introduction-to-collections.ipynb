{
 "cells": [
  {
   "cell_type": "code",
   "execution_count": 1,
   "metadata": {},
   "outputs": [
    {
     "name": "stdout",
     "output_type": "stream",
     "text": [
      "39\n",
      "30\n",
      "27\n",
      "18\n"
     ]
    }
   ],
   "source": [
    "age1 = 39\n",
    "age2 = 30\n",
    "age3 = 27\n",
    "age4 = 18\n",
    "\n",
    "print(age1)\n",
    "print(age2)\n",
    "print(age3)\n",
    "print(age4)"
   ]
  },
  {
   "cell_type": "code",
   "execution_count": 2,
   "metadata": {},
   "outputs": [],
   "source": [
    "ages = [39, 30, 27, 18]"
   ]
  },
  {
   "cell_type": "code",
   "execution_count": 3,
   "metadata": {},
   "outputs": [
    {
     "data": {
      "text/plain": [
       "list"
      ]
     },
     "execution_count": 3,
     "metadata": {},
     "output_type": "execute_result"
    }
   ],
   "source": [
    "type(ages)"
   ]
  },
  {
   "cell_type": "code",
   "execution_count": 4,
   "metadata": {},
   "outputs": [
    {
     "data": {
      "text/plain": [
       "4"
      ]
     },
     "execution_count": 4,
     "metadata": {},
     "output_type": "execute_result"
    }
   ],
   "source": [
    "len(ages)"
   ]
  },
  {
   "cell_type": "code",
   "execution_count": 5,
   "metadata": {},
   "outputs": [
    {
     "data": {
      "text/plain": [
       "39"
      ]
     },
     "execution_count": 5,
     "metadata": {},
     "output_type": "execute_result"
    }
   ],
   "source": [
    "ages[0]"
   ]
  },
  {
   "cell_type": "code",
   "execution_count": 6,
   "metadata": {},
   "outputs": [
    {
     "data": {
      "text/plain": [
       "[39, 30, 27, 18]"
      ]
     },
     "execution_count": 6,
     "metadata": {},
     "output_type": "execute_result"
    }
   ],
   "source": [
    "ages"
   ]
  },
  {
   "cell_type": "code",
   "execution_count": 7,
   "metadata": {},
   "outputs": [
    {
     "name": "stdout",
     "output_type": "stream",
     "text": [
      "30\n",
      "27\n",
      "18\n"
     ]
    }
   ],
   "source": [
    "print(ages[1])\n",
    "print(ages[2])\n",
    "print(ages[3])"
   ]
  },
  {
   "cell_type": "code",
   "execution_count": 8,
   "metadata": {},
   "outputs": [],
   "source": [
    "ages.append(15)"
   ]
  },
  {
   "cell_type": "code",
   "execution_count": 9,
   "metadata": {},
   "outputs": [
    {
     "data": {
      "text/plain": [
       "[39, 30, 27, 18, 15]"
      ]
     },
     "execution_count": 9,
     "metadata": {},
     "output_type": "execute_result"
    }
   ],
   "source": [
    "ages"
   ]
  },
  {
   "cell_type": "code",
   "execution_count": 10,
   "metadata": {},
   "outputs": [
    {
     "data": {
      "text/plain": [
       "15"
      ]
     },
     "execution_count": 10,
     "metadata": {},
     "output_type": "execute_result"
    }
   ],
   "source": [
    "ages[4]"
   ]
  },
  {
   "cell_type": "code",
   "execution_count": 11,
   "metadata": {},
   "outputs": [
    {
     "ename": "IndexError",
     "evalue": "list index out of range",
     "output_type": "error",
     "traceback": [
      "\u001b[0;31m---------------------------------------------------------------------------\u001b[0m",
      "\u001b[0;31mIndexError\u001b[0m                                Traceback (most recent call last)",
      "\u001b[1;32m/home/alvesgf16/it/alura/cursos/programacao/python/collections/introduction-to-collections.ipynb Cell 11\u001b[0m in \u001b[0;36m<cell line: 1>\u001b[0;34m()\u001b[0m\n\u001b[0;32m----> <a href='vscode-notebook-cell:/home/alvesgf16/it/alura/cursos/programacao/python/collections/introduction-to-collections.ipynb#X13sZmlsZQ%3D%3D?line=0'>1</a>\u001b[0m ages[\u001b[39m5\u001b[39;49m]\n",
      "\u001b[0;31mIndexError\u001b[0m: list index out of range"
     ]
    }
   ],
   "source": [
    "ages[5]"
   ]
  },
  {
   "cell_type": "code",
   "execution_count": 12,
   "metadata": {},
   "outputs": [
    {
     "name": "stdout",
     "output_type": "stream",
     "text": [
      "39\n",
      "30\n",
      "27\n",
      "18\n",
      "15\n"
     ]
    }
   ],
   "source": [
    "for age in ages:\n",
    "    print(age)"
   ]
  },
  {
   "cell_type": "code",
   "execution_count": 13,
   "metadata": {},
   "outputs": [],
   "source": [
    "ages.remove(30)"
   ]
  },
  {
   "cell_type": "code",
   "execution_count": 14,
   "metadata": {},
   "outputs": [
    {
     "data": {
      "text/plain": [
       "[39, 27, 18, 15]"
      ]
     },
     "execution_count": 14,
     "metadata": {},
     "output_type": "execute_result"
    }
   ],
   "source": [
    "ages"
   ]
  },
  {
   "cell_type": "code",
   "execution_count": 15,
   "metadata": {},
   "outputs": [
    {
     "ename": "ValueError",
     "evalue": "list.remove(x): x not in list",
     "output_type": "error",
     "traceback": [
      "\u001b[0;31m---------------------------------------------------------------------------\u001b[0m",
      "\u001b[0;31mValueError\u001b[0m                                Traceback (most recent call last)",
      "\u001b[1;32m/home/alvesgf16/it/alura/cursos/programacao/python/collections/introduction-to-collections.ipynb Cell 15\u001b[0m in \u001b[0;36m<cell line: 1>\u001b[0;34m()\u001b[0m\n\u001b[0;32m----> <a href='vscode-notebook-cell:/home/alvesgf16/it/alura/cursos/programacao/python/collections/introduction-to-collections.ipynb#X21sZmlsZQ%3D%3D?line=0'>1</a>\u001b[0m ages\u001b[39m.\u001b[39;49mremove(\u001b[39m30\u001b[39;49m)\n",
      "\u001b[0;31mValueError\u001b[0m: list.remove(x): x not in list"
     ]
    }
   ],
   "source": [
    "ages.remove(30)"
   ]
  },
  {
   "cell_type": "code",
   "execution_count": 16,
   "metadata": {},
   "outputs": [],
   "source": [
    "ages.append(15)"
   ]
  },
  {
   "cell_type": "code",
   "execution_count": 17,
   "metadata": {},
   "outputs": [
    {
     "data": {
      "text/plain": [
       "[39, 27, 18, 15, 15]"
      ]
     },
     "execution_count": 17,
     "metadata": {},
     "output_type": "execute_result"
    }
   ],
   "source": [
    "ages"
   ]
  },
  {
   "cell_type": "code",
   "execution_count": 18,
   "metadata": {},
   "outputs": [],
   "source": [
    "ages.remove(15)"
   ]
  },
  {
   "cell_type": "code",
   "execution_count": 19,
   "metadata": {},
   "outputs": [
    {
     "data": {
      "text/plain": [
       "[39, 27, 18, 15]"
      ]
     },
     "execution_count": 19,
     "metadata": {},
     "output_type": "execute_result"
    }
   ],
   "source": [
    "ages"
   ]
  },
  {
   "cell_type": "code",
   "execution_count": 20,
   "metadata": {},
   "outputs": [
    {
     "data": {
      "text/plain": [
       "[39, 18, 15, 27]"
      ]
     },
     "execution_count": 20,
     "metadata": {},
     "output_type": "execute_result"
    }
   ],
   "source": [
    "ages.append(27)\n",
    "ages.remove(27)\n",
    "ages"
   ]
  },
  {
   "cell_type": "code",
   "execution_count": 21,
   "metadata": {},
   "outputs": [
    {
     "data": {
      "text/plain": [
       "False"
      ]
     },
     "execution_count": 21,
     "metadata": {},
     "output_type": "execute_result"
    }
   ],
   "source": [
    "28 in ages"
   ]
  },
  {
   "cell_type": "code",
   "execution_count": 22,
   "metadata": {},
   "outputs": [
    {
     "data": {
      "text/plain": [
       "True"
      ]
     },
     "execution_count": 22,
     "metadata": {},
     "output_type": "execute_result"
    }
   ],
   "source": [
    "15 in ages"
   ]
  },
  {
   "cell_type": "code",
   "execution_count": 23,
   "metadata": {},
   "outputs": [],
   "source": [
    "if 15 in ages:\n",
    "    ages.remove(15)"
   ]
  },
  {
   "cell_type": "code",
   "execution_count": 24,
   "metadata": {},
   "outputs": [
    {
     "data": {
      "text/plain": [
       "[39, 18, 27]"
      ]
     },
     "execution_count": 24,
     "metadata": {},
     "output_type": "execute_result"
    }
   ],
   "source": [
    "ages"
   ]
  },
  {
   "cell_type": "code",
   "execution_count": 25,
   "metadata": {},
   "outputs": [],
   "source": [
    "if 28 in ages:\n",
    "    ages.remove(28)"
   ]
  },
  {
   "cell_type": "code",
   "execution_count": 26,
   "metadata": {},
   "outputs": [
    {
     "data": {
      "text/plain": [
       "[39, 18, 27]"
      ]
     },
     "execution_count": 26,
     "metadata": {},
     "output_type": "execute_result"
    }
   ],
   "source": [
    "ages"
   ]
  },
  {
   "cell_type": "code",
   "execution_count": 27,
   "metadata": {},
   "outputs": [
    {
     "data": {
      "text/plain": [
       "[39, 18, 27, 19]"
      ]
     },
     "execution_count": 27,
     "metadata": {},
     "output_type": "execute_result"
    }
   ],
   "source": [
    "ages.append(19)\n",
    "ages"
   ]
  },
  {
   "cell_type": "code",
   "execution_count": 28,
   "metadata": {},
   "outputs": [
    {
     "data": {
      "text/plain": [
       "[20, 39, 18, 27, 19]"
      ]
     },
     "execution_count": 28,
     "metadata": {},
     "output_type": "execute_result"
    }
   ],
   "source": [
    "ages.insert(0, 20)\n",
    "ages"
   ]
  },
  {
   "cell_type": "code",
   "execution_count": 29,
   "metadata": {},
   "outputs": [
    {
     "data": {
      "text/plain": [
       "[20, 39, 18]"
      ]
     },
     "execution_count": 29,
     "metadata": {},
     "output_type": "execute_result"
    }
   ],
   "source": [
    "ages = [20, 39, 18]\n",
    "ages"
   ]
  },
  {
   "cell_type": "code",
   "execution_count": 30,
   "metadata": {},
   "outputs": [],
   "source": [
    "ages.append([27, 19])"
   ]
  },
  {
   "cell_type": "code",
   "execution_count": 31,
   "metadata": {},
   "outputs": [
    {
     "data": {
      "text/plain": [
       "[20, 39, 18, [27, 19]]"
      ]
     },
     "execution_count": 31,
     "metadata": {},
     "output_type": "execute_result"
    }
   ],
   "source": [
    "ages"
   ]
  },
  {
   "cell_type": "code",
   "execution_count": 32,
   "metadata": {},
   "outputs": [
    {
     "name": "stdout",
     "output_type": "stream",
     "text": [
      "I received the element 20\n",
      "I received the element 39\n",
      "I received the element 18\n",
      "I received the element [27, 19]\n"
     ]
    }
   ],
   "source": [
    "for element in ages:\n",
    "    print ('I received the element', element)"
   ]
  },
  {
   "cell_type": "code",
   "execution_count": 33,
   "metadata": {},
   "outputs": [
    {
     "data": {
      "text/plain": [
       "[20, 39, 18, 27, 19]"
      ]
     },
     "execution_count": 33,
     "metadata": {},
     "output_type": "execute_result"
    }
   ],
   "source": [
    "ages = [20, 39, 18]\n",
    "ages.extend([27, 19])\n",
    "ages"
   ]
  },
  {
   "cell_type": "code",
   "execution_count": 34,
   "metadata": {},
   "outputs": [
    {
     "name": "stdout",
     "output_type": "stream",
     "text": [
      "21\n",
      "40\n",
      "19\n",
      "28\n",
      "20\n"
     ]
    }
   ],
   "source": [
    "for age in ages:\n",
    "    print(age + 1)"
   ]
  },
  {
   "cell_type": "code",
   "execution_count": 35,
   "metadata": {},
   "outputs": [
    {
     "data": {
      "text/plain": [
       "[21, 40, 19, 28, 20]"
      ]
     },
     "execution_count": 35,
     "metadata": {},
     "output_type": "execute_result"
    }
   ],
   "source": [
    "ages_next_year = []\n",
    "for age in ages:\n",
    "    ages_next_year.append(age + 1)\n",
    "ages_next_year"
   ]
  },
  {
   "cell_type": "code",
   "execution_count": 36,
   "metadata": {},
   "outputs": [
    {
     "data": {
      "text/plain": [
       "[21, 40, 19, 28, 20]"
      ]
     },
     "execution_count": 36,
     "metadata": {},
     "output_type": "execute_result"
    }
   ],
   "source": [
    "ages_next_year = [age + 1 for age in ages]\n",
    "ages_next_year"
   ]
  },
  {
   "cell_type": "code",
   "execution_count": 37,
   "metadata": {},
   "outputs": [
    {
     "data": {
      "text/plain": [
       "[39, 27]"
      ]
     },
     "execution_count": 37,
     "metadata": {},
     "output_type": "execute_result"
    }
   ],
   "source": [
    "[age for age in ages if age > 21]"
   ]
  },
  {
   "cell_type": "code",
   "execution_count": 38,
   "metadata": {},
   "outputs": [
    {
     "data": {
      "text/plain": [
       "[20, 39, 18, 27, 19]"
      ]
     },
     "execution_count": 38,
     "metadata": {},
     "output_type": "execute_result"
    }
   ],
   "source": [
    "ages"
   ]
  },
  {
   "cell_type": "code",
   "execution_count": 39,
   "metadata": {},
   "outputs": [
    {
     "data": {
      "text/plain": [
       "[40, 28]"
      ]
     },
     "execution_count": 39,
     "metadata": {},
     "output_type": "execute_result"
    }
   ],
   "source": [
    "def next_year(age):\n",
    "    return age + 1\n",
    "\n",
    "[next_year(age) for age in ages if age > 21]"
   ]
  },
  {
   "cell_type": "code",
   "execution_count": 40,
   "metadata": {},
   "outputs": [],
   "source": [
    "def do_visualization_processing(some_list):\n",
    "    print(len(some_list))\n",
    "    some_list.append(13)"
   ]
  },
  {
   "cell_type": "code",
   "execution_count": 41,
   "metadata": {},
   "outputs": [
    {
     "name": "stdout",
     "output_type": "stream",
     "text": [
      "5\n"
     ]
    },
    {
     "data": {
      "text/plain": [
       "[16, 21, 29, 56, 43, 13]"
      ]
     },
     "execution_count": 41,
     "metadata": {},
     "output_type": "execute_result"
    }
   ],
   "source": [
    "ages = [16, 21, 29, 56, 43]\n",
    "do_visualization_processing(ages)\n",
    "ages"
   ]
  },
  {
   "cell_type": "code",
   "execution_count": 42,
   "metadata": {},
   "outputs": [],
   "source": [
    "def do_visualization_processing(some_list=[]):\n",
    "    print(len(some_list))\n",
    "    print(some_list)\n",
    "    some_list.append(13)"
   ]
  },
  {
   "cell_type": "code",
   "execution_count": 43,
   "metadata": {},
   "outputs": [
    {
     "name": "stdout",
     "output_type": "stream",
     "text": [
      "0\n",
      "[]\n"
     ]
    }
   ],
   "source": [
    "do_visualization_processing()"
   ]
  },
  {
   "cell_type": "code",
   "execution_count": 44,
   "metadata": {},
   "outputs": [
    {
     "name": "stdout",
     "output_type": "stream",
     "text": [
      "1\n",
      "[13]\n"
     ]
    }
   ],
   "source": [
    "do_visualization_processing()"
   ]
  },
  {
   "cell_type": "code",
   "execution_count": 45,
   "metadata": {},
   "outputs": [
    {
     "name": "stdout",
     "output_type": "stream",
     "text": [
      "2\n",
      "[13, 13]\n"
     ]
    }
   ],
   "source": [
    "do_visualization_processing()"
   ]
  },
  {
   "cell_type": "code",
   "execution_count": 46,
   "metadata": {},
   "outputs": [
    {
     "name": "stdout",
     "output_type": "stream",
     "text": [
      "3\n",
      "[13, 13, 13]\n"
     ]
    }
   ],
   "source": [
    "do_visualization_processing()"
   ]
  },
  {
   "cell_type": "code",
   "execution_count": 47,
   "metadata": {},
   "outputs": [],
   "source": [
    "def do_visualization_processing(some_list=list()):\n",
    "    print(len(some_list))\n",
    "    print(some_list)\n",
    "    some_list.append(13)"
   ]
  },
  {
   "cell_type": "code",
   "execution_count": 48,
   "metadata": {},
   "outputs": [
    {
     "name": "stdout",
     "output_type": "stream",
     "text": [
      "0\n",
      "[]\n",
      "1\n",
      "[13]\n"
     ]
    }
   ],
   "source": [
    "do_visualization_processing()\n",
    "do_visualization_processing()"
   ]
  },
  {
   "cell_type": "code",
   "execution_count": 49,
   "metadata": {},
   "outputs": [],
   "source": [
    "def do_visualization_processing(some_list=None):\n",
    "    if some_list is None:\n",
    "        some_list = []\n",
    "    print(len(some_list))\n",
    "    print(some_list)\n",
    "    some_list.append(13)"
   ]
  },
  {
   "cell_type": "code",
   "execution_count": 50,
   "metadata": {},
   "outputs": [
    {
     "name": "stdout",
     "output_type": "stream",
     "text": [
      "0\n",
      "[]\n",
      "0\n",
      "[]\n",
      "0\n",
      "[]\n",
      "0\n",
      "[]\n"
     ]
    }
   ],
   "source": [
    "do_visualization_processing()\n",
    "do_visualization_processing()\n",
    "do_visualization_processing()\n",
    "do_visualization_processing()"
   ]
  },
  {
   "cell_type": "markdown",
   "metadata": {},
   "source": [
    "# Own objects"
   ]
  },
  {
   "cell_type": "code",
   "execution_count": 51,
   "metadata": {},
   "outputs": [],
   "source": [
    "class CurrentAccount:\n",
    "    def __init__(self, code):\n",
    "        self.code = code\n",
    "        self.balance = 0\n",
    "\n",
    "    def deposit(self, value):\n",
    "        self.balance += value\n",
    "\n",
    "    def __str__(self):\n",
    "        return f\"[>>Code {self.code} Balance {self.balance}<<]\""
   ]
  },
  {
   "cell_type": "code",
   "execution_count": 52,
   "metadata": {},
   "outputs": [
    {
     "name": "stdout",
     "output_type": "stream",
     "text": [
      "[>>Code 15 Balance 0<<]\n"
     ]
    }
   ],
   "source": [
    "gui_account = CurrentAccount(15)\n",
    "print(gui_account)"
   ]
  },
  {
   "cell_type": "code",
   "execution_count": 53,
   "metadata": {},
   "outputs": [
    {
     "name": "stdout",
     "output_type": "stream",
     "text": [
      "[>>Code 15 Balance 500<<]\n"
     ]
    }
   ],
   "source": [
    "gui_account.deposit(500)\n",
    "print(gui_account)"
   ]
  },
  {
   "cell_type": "code",
   "execution_count": 54,
   "metadata": {},
   "outputs": [
    {
     "name": "stdout",
     "output_type": "stream",
     "text": [
      "[>>Code 47685 Balance 1000<<]\n"
     ]
    }
   ],
   "source": [
    "dani_account = CurrentAccount(47685)\n",
    "dani_account.deposit(1000)\n",
    "print(dani_account)"
   ]
  },
  {
   "cell_type": "code",
   "execution_count": 55,
   "metadata": {},
   "outputs": [
    {
     "name": "stdout",
     "output_type": "stream",
     "text": [
      "[>>Code 15 Balance 500<<]\n",
      "[>>Code 47685 Balance 1000<<]\n"
     ]
    }
   ],
   "source": [
    "accounts = [gui_account, dani_account]\n",
    "for account in accounts:\n",
    "    print(account)"
   ]
  },
  {
   "cell_type": "code",
   "execution_count": 56,
   "metadata": {},
   "outputs": [],
   "source": [
    "accounts = [gui_account, dani_account, gui_account]"
   ]
  },
  {
   "cell_type": "code",
   "execution_count": 57,
   "metadata": {},
   "outputs": [
    {
     "name": "stdout",
     "output_type": "stream",
     "text": [
      "[>>Code 15 Balance 500<<]\n"
     ]
    }
   ],
   "source": [
    "print(accounts[0])"
   ]
  },
  {
   "cell_type": "code",
   "execution_count": 58,
   "metadata": {},
   "outputs": [],
   "source": [
    "gui_account.deposit(100)"
   ]
  },
  {
   "cell_type": "code",
   "execution_count": 59,
   "metadata": {},
   "outputs": [
    {
     "name": "stdout",
     "output_type": "stream",
     "text": [
      "[>>Code 15 Balance 600<<]\n"
     ]
    }
   ],
   "source": [
    "print(accounts[0])"
   ]
  },
  {
   "cell_type": "code",
   "execution_count": 60,
   "metadata": {},
   "outputs": [
    {
     "name": "stdout",
     "output_type": "stream",
     "text": [
      "[>>Code 15 Balance 600<<]\n"
     ]
    }
   ],
   "source": [
    "print(gui_account)"
   ]
  },
  {
   "cell_type": "code",
   "execution_count": 61,
   "metadata": {},
   "outputs": [
    {
     "name": "stdout",
     "output_type": "stream",
     "text": [
      "[>>Code 15 Balance 600<<]\n"
     ]
    }
   ],
   "source": [
    "print(accounts[2])"
   ]
  },
  {
   "cell_type": "code",
   "execution_count": 62,
   "metadata": {},
   "outputs": [],
   "source": [
    "accounts[2].deposit(300)"
   ]
  },
  {
   "cell_type": "code",
   "execution_count": 63,
   "metadata": {},
   "outputs": [
    {
     "name": "stdout",
     "output_type": "stream",
     "text": [
      "[>>Code 15 Balance 900<<]\n"
     ]
    }
   ],
   "source": [
    "print(gui_account)"
   ]
  },
  {
   "cell_type": "code",
   "execution_count": 64,
   "metadata": {},
   "outputs": [
    {
     "name": "stdout",
     "output_type": "stream",
     "text": [
      "[>>Code 15 Balance 900<<] [>>Code 47685 Balance 1000<<]\n",
      "[>>Code 15 Balance 1000<<] [>>Code 47685 Balance 1100<<]\n"
     ]
    }
   ],
   "source": [
    "def deposit_in_all(accounts):\n",
    "    for account in accounts:\n",
    "        account.deposit(100)\n",
    "\n",
    "accounts = [gui_account, dani_account]\n",
    "print(accounts[0], accounts[1])\n",
    "deposit_in_all(accounts)\n",
    "print(accounts[0], accounts[1])"
   ]
  },
  {
   "cell_type": "code",
   "execution_count": 65,
   "metadata": {},
   "outputs": [
    {
     "name": "stdout",
     "output_type": "stream",
     "text": [
      "76 [>>Code 15 Balance 1000<<] [>>Code 47685 Balance 1100<<]\n"
     ]
    }
   ],
   "source": [
    "accounts.insert(0, 76)\n",
    "print(accounts[0], accounts[1], accounts[2])"
   ]
  },
  {
   "cell_type": "code",
   "execution_count": 66,
   "metadata": {},
   "outputs": [
    {
     "ename": "AttributeError",
     "evalue": "'int' object has no attribute 'deposit'",
     "output_type": "error",
     "traceback": [
      "\u001b[0;31m---------------------------------------------------------------------------\u001b[0m",
      "\u001b[0;31mAttributeError\u001b[0m                            Traceback (most recent call last)",
      "\u001b[1;32m/home/alvesgf16/it/alura/cursos/programacao/python/collections/introduction-to-collections.ipynb Cell 67\u001b[0m in \u001b[0;36m<cell line: 1>\u001b[0;34m()\u001b[0m\n\u001b[0;32m----> <a href='vscode-notebook-cell:/home/alvesgf16/it/alura/cursos/programacao/python/collections/introduction-to-collections.ipynb#Y130sZmlsZQ%3D%3D?line=0'>1</a>\u001b[0m deposit_in_all(accounts)\n\u001b[1;32m      <a href='vscode-notebook-cell:/home/alvesgf16/it/alura/cursos/programacao/python/collections/introduction-to-collections.ipynb#Y130sZmlsZQ%3D%3D?line=1'>2</a>\u001b[0m \u001b[39mprint\u001b[39m(accounts[\u001b[39m0\u001b[39m], accounts[\u001b[39m1\u001b[39m], accounts[\u001b[39m2\u001b[39m])\n",
      "\u001b[1;32m/home/alvesgf16/it/alura/cursos/programacao/python/collections/introduction-to-collections.ipynb Cell 67\u001b[0m in \u001b[0;36mdeposit_in_all\u001b[0;34m(accounts)\u001b[0m\n\u001b[1;32m      <a href='vscode-notebook-cell:/home/alvesgf16/it/alura/cursos/programacao/python/collections/introduction-to-collections.ipynb#Y130sZmlsZQ%3D%3D?line=0'>1</a>\u001b[0m \u001b[39mdef\u001b[39;00m \u001b[39mdeposit_in_all\u001b[39m(accounts):\n\u001b[1;32m      <a href='vscode-notebook-cell:/home/alvesgf16/it/alura/cursos/programacao/python/collections/introduction-to-collections.ipynb#Y130sZmlsZQ%3D%3D?line=1'>2</a>\u001b[0m     \u001b[39mfor\u001b[39;00m account \u001b[39min\u001b[39;00m accounts:\n\u001b[0;32m----> <a href='vscode-notebook-cell:/home/alvesgf16/it/alura/cursos/programacao/python/collections/introduction-to-collections.ipynb#Y130sZmlsZQ%3D%3D?line=2'>3</a>\u001b[0m         account\u001b[39m.\u001b[39;49mdeposit(\u001b[39m100\u001b[39m)\n",
      "\u001b[0;31mAttributeError\u001b[0m: 'int' object has no attribute 'deposit'"
     ]
    }
   ],
   "source": [
    "deposit_in_all(accounts)\n",
    "print(accounts[0], accounts[1], accounts[2])"
   ]
  },
  {
   "cell_type": "code",
   "execution_count": 67,
   "metadata": {},
   "outputs": [],
   "source": [
    "guilherme = ('Guilherme', 37, 1981)\n",
    "daniela = ('Daniela', 31, 1987)\n",
    "# paulo = (39, 'Paulo', 1979) # ruim"
   ]
  },
  {
   "cell_type": "code",
   "execution_count": 68,
   "metadata": {},
   "outputs": [
    {
     "ename": "AttributeError",
     "evalue": "'tuple' object has no attribute 'append'",
     "output_type": "error",
     "traceback": [
      "\u001b[0;31m---------------------------------------------------------------------------\u001b[0m",
      "\u001b[0;31mAttributeError\u001b[0m                            Traceback (most recent call last)",
      "\u001b[1;32m/home/alvesgf16/it/alura/cursos/programacao/python/collections/introduction-to-collections.ipynb Cell 69\u001b[0m in \u001b[0;36m<cell line: 1>\u001b[0;34m()\u001b[0m\n\u001b[0;32m----> <a href='vscode-notebook-cell:/home/alvesgf16/it/alura/cursos/programacao/python/collections/introduction-to-collections.ipynb#Y132sZmlsZQ%3D%3D?line=0'>1</a>\u001b[0m guilherme\u001b[39m.\u001b[39;49mappend(\u001b[39m6754\u001b[39m)\n",
      "\u001b[0;31mAttributeError\u001b[0m: 'tuple' object has no attribute 'append'"
     ]
    }
   ],
   "source": [
    "guilherme.append(6754)"
   ]
  },
  {
   "cell_type": "code",
   "execution_count": 69,
   "metadata": {},
   "outputs": [
    {
     "data": {
      "text/plain": [
       "1000"
      ]
     },
     "execution_count": 69,
     "metadata": {},
     "output_type": "execute_result"
    }
   ],
   "source": [
    "gui_account = (15, 1000)\n",
    "# gui_account.deposit() # OO variation\n",
    "gui_account[1]"
   ]
  },
  {
   "cell_type": "code",
   "execution_count": 70,
   "metadata": {},
   "outputs": [
    {
     "ename": "TypeError",
     "evalue": "'tuple' object does not support item assignment",
     "output_type": "error",
     "traceback": [
      "\u001b[0;31m---------------------------------------------------------------------------\u001b[0m",
      "\u001b[0;31mTypeError\u001b[0m                                 Traceback (most recent call last)",
      "\u001b[1;32m/home/alvesgf16/it/alura/cursos/programacao/python/collections/introduction-to-collections.ipynb Cell 71\u001b[0m in \u001b[0;36m<cell line: 1>\u001b[0;34m()\u001b[0m\n\u001b[0;32m----> <a href='vscode-notebook-cell:/home/alvesgf16/it/alura/cursos/programacao/python/collections/introduction-to-collections.ipynb#Y134sZmlsZQ%3D%3D?line=0'>1</a>\u001b[0m gui_account[\u001b[39m1\u001b[39m] \u001b[39m+\u001b[39m\u001b[39m=\u001b[39m \u001b[39m100\u001b[39m\n",
      "\u001b[0;31mTypeError\u001b[0m: 'tuple' object does not support item assignment"
     ]
    }
   ],
   "source": [
    "gui_account[1] += 100"
   ]
  },
  {
   "cell_type": "code",
   "execution_count": 71,
   "metadata": {},
   "outputs": [],
   "source": [
    "def deposit(account): # \"functional\" variation (separating behavior from data)\n",
    "    new_balance = account[1] + 100\n",
    "    code = account[0]\n",
    "    return (code, new_balance)"
   ]
  },
  {
   "cell_type": "code",
   "execution_count": 72,
   "metadata": {},
   "outputs": [
    {
     "data": {
      "text/plain": [
       "(15, 1100)"
      ]
     },
     "execution_count": 72,
     "metadata": {},
     "output_type": "execute_result"
    }
   ],
   "source": [
    "deposit(gui_account)"
   ]
  },
  {
   "cell_type": "code",
   "execution_count": 73,
   "metadata": {},
   "outputs": [
    {
     "data": {
      "text/plain": [
       "(15, 1000)"
      ]
     },
     "execution_count": 73,
     "metadata": {},
     "output_type": "execute_result"
    }
   ],
   "source": [
    "gui_account"
   ]
  },
  {
   "cell_type": "code",
   "execution_count": 74,
   "metadata": {},
   "outputs": [
    {
     "data": {
      "text/plain": [
       "(15, 1100)"
      ]
     },
     "execution_count": 74,
     "metadata": {},
     "output_type": "execute_result"
    }
   ],
   "source": [
    "gui_account = deposit(gui_account)\n",
    "gui_account"
   ]
  },
  {
   "cell_type": "code",
   "execution_count": 75,
   "metadata": {},
   "outputs": [
    {
     "data": {
      "text/plain": [
       "[('Guilherme', 37, 1981), ('Daniela', 31, 1987)]"
      ]
     },
     "execution_count": 75,
     "metadata": {},
     "output_type": "execute_result"
    }
   ],
   "source": [
    "users = [guilherme, daniela]\n",
    "users"
   ]
  },
  {
   "cell_type": "code",
   "execution_count": 76,
   "metadata": {},
   "outputs": [],
   "source": [
    "users.append(('Paulo', 39, 1979))"
   ]
  },
  {
   "cell_type": "code",
   "execution_count": 77,
   "metadata": {},
   "outputs": [
    {
     "data": {
      "text/plain": [
       "[('Guilherme', 37, 1981), ('Daniela', 31, 1987), ('Paulo', 39, 1979)]"
      ]
     },
     "execution_count": 77,
     "metadata": {},
     "output_type": "execute_result"
    }
   ],
   "source": [
    "users"
   ]
  },
  {
   "cell_type": "code",
   "execution_count": 78,
   "metadata": {},
   "outputs": [
    {
     "ename": "TypeError",
     "evalue": "'tuple' object does not support item assignment",
     "output_type": "error",
     "traceback": [
      "\u001b[0;31m---------------------------------------------------------------------------\u001b[0m",
      "\u001b[0;31mTypeError\u001b[0m                                 Traceback (most recent call last)",
      "\u001b[1;32m/home/alvesgf16/it/alura/cursos/programacao/python/collections/introduction-to-collections.ipynb Cell 79\u001b[0m in \u001b[0;36m<cell line: 1>\u001b[0;34m()\u001b[0m\n\u001b[0;32m----> <a href='vscode-notebook-cell:/home/alvesgf16/it/alura/cursos/programacao/python/collections/introduction-to-collections.ipynb#Y145sZmlsZQ%3D%3D?line=0'>1</a>\u001b[0m users[\u001b[39m0\u001b[39m][\u001b[39m0\u001b[39m] \u001b[39m=\u001b[39m \u001b[39m'\u001b[39m\u001b[39mGuilherme Silveira\u001b[39m\u001b[39m'\u001b[39m\n",
      "\u001b[0;31mTypeError\u001b[0m: 'tuple' object does not support item assignment"
     ]
    }
   ],
   "source": [
    "users[0][0] = 'Guilherme Silveira'"
   ]
  },
  {
   "cell_type": "code",
   "execution_count": 79,
   "metadata": {},
   "outputs": [],
   "source": [
    "gui_account = CurrentAccount(15)\n",
    "gui_account.deposit(500)\n",
    "dani_account = CurrentAccount(234876)\n",
    "dani_account.deposit(1000)\n",
    "\n",
    "accounts = (gui_account, dani_account)"
   ]
  },
  {
   "cell_type": "code",
   "execution_count": 80,
   "metadata": {},
   "outputs": [
    {
     "data": {
      "text/plain": [
       "(<__main__.CurrentAccount at 0x7f4311905490>,\n",
       " <__main__.CurrentAccount at 0x7f431197f5e0>)"
      ]
     },
     "execution_count": 80,
     "metadata": {},
     "output_type": "execute_result"
    }
   ],
   "source": [
    "accounts"
   ]
  },
  {
   "cell_type": "code",
   "execution_count": 81,
   "metadata": {},
   "outputs": [
    {
     "name": "stdout",
     "output_type": "stream",
     "text": [
      "[>>Code 15 Balance 500<<]\n",
      "[>>Code 234876 Balance 1000<<]\n"
     ]
    }
   ],
   "source": [
    "for account in accounts:\n",
    "    print(account)"
   ]
  },
  {
   "cell_type": "code",
   "execution_count": 82,
   "metadata": {},
   "outputs": [
    {
     "ename": "AttributeError",
     "evalue": "'tuple' object has no attribute 'append'",
     "output_type": "error",
     "traceback": [
      "\u001b[0;31m---------------------------------------------------------------------------\u001b[0m",
      "\u001b[0;31mAttributeError\u001b[0m                            Traceback (most recent call last)",
      "\u001b[1;32m/home/alvesgf16/it/alura/cursos/programacao/python/collections/introduction-to-collections.ipynb Cell 83\u001b[0m in \u001b[0;36m<cell line: 1>\u001b[0;34m()\u001b[0m\n\u001b[0;32m----> <a href='vscode-notebook-cell:/home/alvesgf16/it/alura/cursos/programacao/python/collections/introduction-to-collections.ipynb#Y152sZmlsZQ%3D%3D?line=0'>1</a>\u001b[0m accounts\u001b[39m.\u001b[39;49mappend(\u001b[39m423768\u001b[39m)\n",
      "\u001b[0;31mAttributeError\u001b[0m: 'tuple' object has no attribute 'append'"
     ]
    }
   ],
   "source": [
    "accounts.append(423768)"
   ]
  },
  {
   "cell_type": "code",
   "execution_count": 83,
   "metadata": {},
   "outputs": [],
   "source": [
    "accounts[0].deposit(300)"
   ]
  },
  {
   "cell_type": "code",
   "execution_count": 84,
   "metadata": {},
   "outputs": [
    {
     "name": "stdout",
     "output_type": "stream",
     "text": [
      "[>>Code 15 Balance 800<<]\n",
      "[>>Code 234876 Balance 1000<<]\n"
     ]
    }
   ],
   "source": [
    "for account in accounts:\n",
    "    print(account)"
   ]
  },
  {
   "cell_type": "markdown",
   "metadata": {},
   "source": [
    "# Inheritance and polymorphism"
   ]
  },
  {
   "cell_type": "code",
   "execution_count": 85,
   "metadata": {},
   "outputs": [],
   "source": [
    "from abc import ABCMeta, abstractmethod\n",
    "\n",
    "class Account(metaclass=ABCMeta):\n",
    "    def __init__(self, code):\n",
    "        self._code = code\n",
    "        self._balance = 0\n",
    "\n",
    "    def deposit(self, value):\n",
    "        self._balance += value\n",
    "\n",
    "    @abstractmethod\n",
    "    def the_month_passes(self):\n",
    "        pass\n",
    "\n",
    "    def __str__(self):\n",
    "        return f\"[>>Code {self._code} Balance {self._balance}<<]\""
   ]
  },
  {
   "cell_type": "code",
   "execution_count": 86,
   "metadata": {},
   "outputs": [
    {
     "ename": "TypeError",
     "evalue": "Can't instantiate abstract class Account with abstract method the_month_passes",
     "output_type": "error",
     "traceback": [
      "\u001b[0;31m---------------------------------------------------------------------------\u001b[0m",
      "\u001b[0;31mTypeError\u001b[0m                                 Traceback (most recent call last)",
      "\u001b[1;32m/home/alvesgf16/it/alura/cursos/programacao/python/collections/introduction-to-collections.ipynb Cell 88\u001b[0m in \u001b[0;36m<cell line: 1>\u001b[0;34m()\u001b[0m\n\u001b[0;32m----> <a href='vscode-notebook-cell:/home/alvesgf16/it/alura/cursos/programacao/python/collections/introduction-to-collections.ipynb#Y162sZmlsZQ%3D%3D?line=0'>1</a>\u001b[0m \u001b[39mprint\u001b[39m(Account(\u001b[39m88\u001b[39;49m))\n",
      "\u001b[0;31mTypeError\u001b[0m: Can't instantiate abstract class Account with abstract method the_month_passes"
     ]
    }
   ],
   "source": [
    "print(Account(88))"
   ]
  },
  {
   "cell_type": "code",
   "execution_count": 87,
   "metadata": {},
   "outputs": [],
   "source": [
    "class CurrentAccount(Account):\n",
    "    def the_month_passes(self):\n",
    "        self._balance -= 2\n",
    "\n",
    "class SavingsAccount(Account):\n",
    "    def the_month_passes(self):\n",
    "        self._balance *= 1.01\n",
    "        self._balance -= 3\n",
    "\n",
    "class InvestmentAccount(Account):\n",
    "    pass"
   ]
  },
  {
   "cell_type": "code",
   "execution_count": 88,
   "metadata": {},
   "outputs": [
    {
     "ename": "TypeError",
     "evalue": "Can't instantiate abstract class InvestmentAccount with abstract method the_month_passes",
     "output_type": "error",
     "traceback": [
      "\u001b[0;31m---------------------------------------------------------------------------\u001b[0m",
      "\u001b[0;31mTypeError\u001b[0m                                 Traceback (most recent call last)",
      "\u001b[1;32m/home/alvesgf16/it/alura/cursos/programacao/python/collections/introduction-to-collections.ipynb Cell 90\u001b[0m in \u001b[0;36m<cell line: 1>\u001b[0;34m()\u001b[0m\n\u001b[0;32m----> <a href='vscode-notebook-cell:/home/alvesgf16/it/alura/cursos/programacao/python/collections/introduction-to-collections.ipynb#Y211sZmlsZQ%3D%3D?line=0'>1</a>\u001b[0m InvestmentAccount(\u001b[39m764\u001b[39;49m)\n",
      "\u001b[0;31mTypeError\u001b[0m: Can't instantiate abstract class InvestmentAccount with abstract method the_month_passes"
     ]
    }
   ],
   "source": [
    "InvestmentAccount(764)"
   ]
  },
  {
   "cell_type": "code",
   "execution_count": 89,
   "metadata": {},
   "outputs": [
    {
     "name": "stdout",
     "output_type": "stream",
     "text": [
      "[>>Code 16 Balance 998<<]\n"
     ]
    }
   ],
   "source": [
    "account16 = CurrentAccount(16)\n",
    "account16.deposit(1000)\n",
    "account16.the_month_passes()\n",
    "print(account16)"
   ]
  },
  {
   "cell_type": "code",
   "execution_count": 90,
   "metadata": {},
   "outputs": [
    {
     "name": "stdout",
     "output_type": "stream",
     "text": [
      "[>>Code 17 Balance 1007.0<<]\n"
     ]
    }
   ],
   "source": [
    "account17 = SavingsAccount(17)\n",
    "account17.deposit(1000)\n",
    "account17.the_month_passes()\n",
    "print(account17)"
   ]
  },
  {
   "cell_type": "code",
   "execution_count": 91,
   "metadata": {},
   "outputs": [
    {
     "name": "stdout",
     "output_type": "stream",
     "text": [
      "[>>Code 16 Balance 998<<]\n",
      "[>>Code 17 Balance 1007.0<<]\n"
     ]
    }
   ],
   "source": [
    "account16 = CurrentAccount(16)\n",
    "account16.deposit(1000)\n",
    "account17 = SavingsAccount(17)\n",
    "account17.deposit(1000)\n",
    "accounts = [account16, account17]\n",
    "\n",
    "for account in accounts:\n",
    "    account.the_month_passes()\n",
    "    print(account)"
   ]
  },
  {
   "cell_type": "markdown",
   "metadata": {},
   "source": [
    "# we will avoid using the pure array. if we need numerical work it is customary to use numpy"
   ]
  },
  {
   "cell_type": "code",
   "execution_count": 92,
   "metadata": {},
   "outputs": [
    {
     "data": {
      "text/plain": [
       "array('d', [1.0, 3.5])"
      ]
     },
     "execution_count": 92,
     "metadata": {},
     "output_type": "execute_result"
    }
   ],
   "source": [
    "import array as arr\n",
    "\n",
    "arr.array('d', [1, 3.5])"
   ]
  },
  {
   "cell_type": "code",
   "execution_count": 93,
   "metadata": {},
   "outputs": [
    {
     "ename": "TypeError",
     "evalue": "must be real number, not str",
     "output_type": "error",
     "traceback": [
      "\u001b[0;31m---------------------------------------------------------------------------\u001b[0m",
      "\u001b[0;31mTypeError\u001b[0m                                 Traceback (most recent call last)",
      "\u001b[1;32m/home/alvesgf16/it/alura/cursos/programacao/python/collections/introduction-to-collections.ipynb Cell 96\u001b[0m in \u001b[0;36m<cell line: 1>\u001b[0;34m()\u001b[0m\n\u001b[0;32m----> <a href='vscode-notebook-cell:/home/alvesgf16/it/alura/cursos/programacao/python/collections/introduction-to-collections.ipynb#Y204sZmlsZQ%3D%3D?line=0'>1</a>\u001b[0m arr\u001b[39m.\u001b[39;49marray(\u001b[39m'\u001b[39;49m\u001b[39md\u001b[39;49m\u001b[39m'\u001b[39;49m, [\u001b[39m1\u001b[39;49m, \u001b[39m3.5\u001b[39;49m, \u001b[39m'\u001b[39;49m\u001b[39mGuilherme\u001b[39;49m\u001b[39m'\u001b[39;49m])\n",
      "\u001b[0;31mTypeError\u001b[0m: must be real number, not str"
     ]
    }
   ],
   "source": [
    "arr.array('d', [1, 3.5, 'Guilherme'])"
   ]
  },
  {
   "cell_type": "code",
   "execution_count": 94,
   "metadata": {},
   "outputs": [
    {
     "data": {
      "text/plain": [
       "array([1. , 3.5])"
      ]
     },
     "execution_count": 94,
     "metadata": {},
     "output_type": "execute_result"
    }
   ],
   "source": [
    "import numpy as np\n",
    "\n",
    "numbers = np.array([1, 3.5])\n",
    "numbers"
   ]
  },
  {
   "cell_type": "code",
   "execution_count": 95,
   "metadata": {},
   "outputs": [
    {
     "data": {
      "text/plain": [
       "array([4. , 6.5])"
      ]
     },
     "execution_count": 95,
     "metadata": {},
     "output_type": "execute_result"
    }
   ],
   "source": [
    "numbers + 3"
   ]
  },
  {
   "cell_type": "code",
   "execution_count": 96,
   "metadata": {},
   "outputs": [],
   "source": [
    "class SalaryAccount:\n",
    "    def __init__(self, code):\n",
    "        self._code = code\n",
    "        self._balance = 0\n",
    "\n",
    "    def deposit(self, value):\n",
    "        self._balance += value\n",
    "\n",
    "    def __str__(self):\n",
    "        return f\"[>>Code {self._code} Balance {self._balance}<<]\""
   ]
  },
  {
   "cell_type": "code",
   "execution_count": 97,
   "metadata": {},
   "outputs": [
    {
     "name": "stdout",
     "output_type": "stream",
     "text": [
      "[>>Code 37 Balance 0<<]\n"
     ]
    }
   ],
   "source": [
    "account1 = SalaryAccount(37)\n",
    "print(account1)"
   ]
  },
  {
   "cell_type": "code",
   "execution_count": 98,
   "metadata": {},
   "outputs": [
    {
     "name": "stdout",
     "output_type": "stream",
     "text": [
      "[>>Code 37 Balance 0<<]\n"
     ]
    }
   ],
   "source": [
    "account2 = SalaryAccount(37)\n",
    "print(account2)"
   ]
  },
  {
   "cell_type": "code",
   "execution_count": 99,
   "metadata": {},
   "outputs": [
    {
     "data": {
      "text/plain": [
       "False"
      ]
     },
     "execution_count": 99,
     "metadata": {},
     "output_type": "execute_result"
    }
   ],
   "source": [
    "account1 == account2"
   ]
  },
  {
   "cell_type": "code",
   "execution_count": 101,
   "metadata": {},
   "outputs": [
    {
     "data": {
      "text/plain": [
       "True"
      ]
     },
     "execution_count": 101,
     "metadata": {},
     "output_type": "execute_result"
    }
   ],
   "source": [
    "accounts = [account1]\n",
    "account1 in accounts"
   ]
  },
  {
   "cell_type": "code",
   "execution_count": 102,
   "metadata": {},
   "outputs": [
    {
     "data": {
      "text/plain": [
       "False"
      ]
     },
     "execution_count": 102,
     "metadata": {},
     "output_type": "execute_result"
    }
   ],
   "source": [
    "account2 in accounts"
   ]
  },
  {
   "cell_type": "code",
   "execution_count": 103,
   "metadata": {},
   "outputs": [],
   "source": [
    "class SalaryAccount:\n",
    "    def __init__(self, code):\n",
    "        self._code = code\n",
    "        self._balance = 0\n",
    "\n",
    "    def __eq__(self, other):\n",
    "        return self._code == other._code\n",
    "\n",
    "    def deposit(self, value):\n",
    "        self._balance += value\n",
    "\n",
    "    def __str__(self):\n",
    "        return f\"[>>Code {self._code} Balance {self._balance}<<]\""
   ]
  },
  {
   "cell_type": "code",
   "execution_count": 104,
   "metadata": {},
   "outputs": [
    {
     "data": {
      "text/plain": [
       "True"
      ]
     },
     "execution_count": 104,
     "metadata": {},
     "output_type": "execute_result"
    }
   ],
   "source": [
    "account1 = SalaryAccount(37)\n",
    "account2 = SalaryAccount(37)\n",
    "account1 == account2"
   ]
  },
  {
   "cell_type": "code",
   "execution_count": 105,
   "metadata": {},
   "outputs": [
    {
     "data": {
      "text/plain": [
       "False"
      ]
     },
     "execution_count": 105,
     "metadata": {},
     "output_type": "execute_result"
    }
   ],
   "source": [
    "account1 != account2"
   ]
  },
  {
   "cell_type": "code",
   "execution_count": 107,
   "metadata": {},
   "outputs": [
    {
     "data": {
      "text/plain": [
       "True"
      ]
     },
     "execution_count": 107,
     "metadata": {},
     "output_type": "execute_result"
    }
   ],
   "source": [
    "account1 in [account2]"
   ]
  },
  {
   "cell_type": "code",
   "execution_count": 108,
   "metadata": {},
   "outputs": [
    {
     "data": {
      "text/plain": [
       "True"
      ]
     },
     "execution_count": 108,
     "metadata": {},
     "output_type": "execute_result"
    }
   ],
   "source": [
    "account2 in [account1]"
   ]
  },
  {
   "cell_type": "code",
   "execution_count": 109,
   "metadata": {},
   "outputs": [],
   "source": [
    "class SalaryAccount:\n",
    "    def __init__(self, code):\n",
    "        self._code = code\n",
    "        self._balance = 0\n",
    "\n",
    "    def __eq__(self, other):\n",
    "        return self._code == other._code and self._balance == other._balance\n",
    "\n",
    "    def deposit(self, value):\n",
    "        self._balance += value\n",
    "\n",
    "    def __str__(self):\n",
    "        return f\"[>>Code {self._code} Balance {self._balance}<<]\"\n"
   ]
  },
  {
   "cell_type": "code",
   "execution_count": 110,
   "metadata": {},
   "outputs": [
    {
     "data": {
      "text/plain": [
       "True"
      ]
     },
     "execution_count": 110,
     "metadata": {},
     "output_type": "execute_result"
    }
   ],
   "source": [
    "account1 = SalaryAccount(37)\n",
    "account2 = SalaryAccount(37)\n",
    "account1 == account2"
   ]
  },
  {
   "cell_type": "code",
   "execution_count": 111,
   "metadata": {},
   "outputs": [],
   "source": [
    "account1.deposit(10)"
   ]
  },
  {
   "cell_type": "code",
   "execution_count": 112,
   "metadata": {},
   "outputs": [
    {
     "data": {
      "text/plain": [
       "False"
      ]
     },
     "execution_count": 112,
     "metadata": {},
     "output_type": "execute_result"
    }
   ],
   "source": [
    "account1 == account2"
   ]
  },
  {
   "cell_type": "code",
   "execution_count": 113,
   "metadata": {},
   "outputs": [],
   "source": [
    "class SalaryAccount:\n",
    "    def __init__(self, code):\n",
    "        self._code = code\n",
    "        self._balance = 0\n",
    "\n",
    "    def __eq__(self, other):\n",
    "        if type(other) != SalaryAccount:\n",
    "            return False\n",
    "        \n",
    "        return self._code == other._code and self._balance == other._balance\n",
    "\n",
    "    def deposit(self, value):\n",
    "        self._balance += value\n",
    "\n",
    "    def __str__(self):\n",
    "        return f\"[>>Code {self._code} Balance {self._balance}<<]\""
   ]
  },
  {
   "cell_type": "code",
   "execution_count": 114,
   "metadata": {},
   "outputs": [],
   "source": [
    "account1 = SalaryAccount(37)\n",
    "account2 = CurrentAccount(37)"
   ]
  },
  {
   "cell_type": "code",
   "execution_count": 115,
   "metadata": {},
   "outputs": [
    {
     "data": {
      "text/plain": [
       "False"
      ]
     },
     "execution_count": 115,
     "metadata": {},
     "output_type": "execute_result"
    }
   ],
   "source": [
    "account1 == account2"
   ]
  },
  {
   "cell_type": "code",
   "execution_count": 117,
   "metadata": {},
   "outputs": [
    {
     "data": {
      "text/plain": [
       "True"
      ]
     },
     "execution_count": 117,
     "metadata": {},
     "output_type": "execute_result"
    }
   ],
   "source": [
    "isinstance(CurrentAccount(34), CurrentAccount)"
   ]
  },
  {
   "cell_type": "code",
   "execution_count": 118,
   "metadata": {},
   "outputs": [
    {
     "data": {
      "text/plain": [
       "True"
      ]
     },
     "execution_count": 118,
     "metadata": {},
     "output_type": "execute_result"
    }
   ],
   "source": [
    "isinstance(CurrentAccount(34), Account)"
   ]
  },
  {
   "cell_type": "code",
   "execution_count": 122,
   "metadata": {},
   "outputs": [
    {
     "name": "stdout",
     "output_type": "stream",
     "text": [
      "0 15\n",
      "1 87\n",
      "2 32\n",
      "3 65\n",
      "4 56\n",
      "5 32\n",
      "6 49\n",
      "7 37\n"
     ]
    }
   ],
   "source": [
    "ages = [15, 87, 32, 65, 56, 32, 49, 37]\n",
    "\n",
    "for i in range(len(ages)):\n",
    "    print(i, ages[i])"
   ]
  },
  {
   "cell_type": "code",
   "execution_count": 124,
   "metadata": {},
   "outputs": [
    {
     "data": {
      "text/plain": [
       "range(0, 8)"
      ]
     },
     "execution_count": 124,
     "metadata": {},
     "output_type": "execute_result"
    }
   ],
   "source": [
    "range(len(ages)) # lazy..."
   ]
  },
  {
   "cell_type": "code",
   "execution_count": 125,
   "metadata": {},
   "outputs": [
    {
     "data": {
      "text/plain": [
       "<enumerate at 0x7f432d08df80>"
      ]
     },
     "execution_count": 125,
     "metadata": {},
     "output_type": "execute_result"
    }
   ],
   "source": [
    "enumerate(ages) # lazy"
   ]
  },
  {
   "cell_type": "code",
   "execution_count": 126,
   "metadata": {},
   "outputs": [
    {
     "data": {
      "text/plain": [
       "[0, 1, 2, 3, 4, 5, 6, 7]"
      ]
     },
     "execution_count": 126,
     "metadata": {},
     "output_type": "execute_result"
    }
   ],
   "source": [
    "list(range(len(ages))) # I forced the generation of values"
   ]
  },
  {
   "cell_type": "code",
   "execution_count": 127,
   "metadata": {},
   "outputs": [
    {
     "data": {
      "text/plain": [
       "[(0, 15), (1, 87), (2, 32), (3, 65), (4, 56), (5, 32), (6, 49), (7, 37)]"
      ]
     },
     "execution_count": 127,
     "metadata": {},
     "output_type": "execute_result"
    }
   ],
   "source": [
    "list(enumerate(ages))"
   ]
  },
  {
   "cell_type": "code",
   "execution_count": 129,
   "metadata": {},
   "outputs": [
    {
     "name": "stdout",
     "output_type": "stream",
     "text": [
      "0 x 15\n",
      "1 x 87\n",
      "2 x 32\n",
      "3 x 65\n",
      "4 x 56\n",
      "5 x 32\n",
      "6 x 49\n",
      "7 x 37\n"
     ]
    }
   ],
   "source": [
    "for index, age in enumerate(ages): # unpacking of the tuple\n",
    "    print(index, \"x\", age)"
   ]
  },
  {
   "cell_type": "code",
   "execution_count": 132,
   "metadata": {},
   "outputs": [
    {
     "name": "stdout",
     "output_type": "stream",
     "text": [
      "Guilherme\n",
      "Daniela\n",
      "Paulo\n"
     ]
    }
   ],
   "source": [
    "users = [\n",
    "    (\"Guilherme\", 37, 1981),\n",
    "    (\"Daniela\", 31, 1987),\n",
    "    (\"Paulo\", 39, 1979)\n",
    "]\n",
    "\n",
    "for name, age, birth_year in users: # already unpacking\n",
    "    print(name)"
   ]
  },
  {
   "cell_type": "code",
   "execution_count": 133,
   "metadata": {},
   "outputs": [
    {
     "name": "stdout",
     "output_type": "stream",
     "text": [
      "Guilherme\n",
      "Daniela\n",
      "Paulo\n"
     ]
    }
   ],
   "source": [
    "for name, _, _ in users: # already unpacking, ignoring the rest\n",
    "    print(name)"
   ]
  },
  {
   "cell_type": "code",
   "execution_count": 134,
   "metadata": {},
   "outputs": [
    {
     "data": {
      "text/plain": [
       "[15, 87, 32, 65, 56, 32, 49, 37]"
      ]
     },
     "execution_count": 134,
     "metadata": {},
     "output_type": "execute_result"
    }
   ],
   "source": [
    "ages"
   ]
  },
  {
   "cell_type": "code",
   "execution_count": 135,
   "metadata": {},
   "outputs": [
    {
     "data": {
      "text/plain": [
       "[15, 32, 32, 37, 49, 56, 65, 87]"
      ]
     },
     "execution_count": 135,
     "metadata": {},
     "output_type": "execute_result"
    }
   ],
   "source": [
    "sorted(ages)"
   ]
  },
  {
   "cell_type": "code",
   "execution_count": 136,
   "metadata": {},
   "outputs": [
    {
     "data": {
      "text/plain": [
       "True"
      ]
     },
     "execution_count": 136,
     "metadata": {},
     "output_type": "execute_result"
    }
   ],
   "source": [
    "15 < 32"
   ]
  },
  {
   "cell_type": "code",
   "execution_count": 137,
   "metadata": {},
   "outputs": [
    {
     "data": {
      "text/plain": [
       "[37, 49, 32, 56, 65, 32, 87, 15]"
      ]
     },
     "execution_count": 137,
     "metadata": {},
     "output_type": "execute_result"
    }
   ],
   "source": [
    "list(reversed(ages))"
   ]
  },
  {
   "cell_type": "code",
   "execution_count": 138,
   "metadata": {},
   "outputs": [
    {
     "data": {
      "text/plain": [
       "[87, 65, 56, 49, 37, 32, 32, 15]"
      ]
     },
     "execution_count": 138,
     "metadata": {},
     "output_type": "execute_result"
    }
   ],
   "source": [
    "sorted(ages, reverse=True)"
   ]
  },
  {
   "cell_type": "code",
   "execution_count": 139,
   "metadata": {},
   "outputs": [
    {
     "data": {
      "text/plain": [
       "[87, 65, 56, 49, 37, 32, 32, 15]"
      ]
     },
     "execution_count": 139,
     "metadata": {},
     "output_type": "execute_result"
    }
   ],
   "source": [
    "list(reversed(sorted(ages)))"
   ]
  },
  {
   "cell_type": "code",
   "execution_count": 140,
   "metadata": {},
   "outputs": [
    {
     "data": {
      "text/plain": [
       "[15, 87, 32, 65, 56, 32, 49, 37]"
      ]
     },
     "execution_count": 140,
     "metadata": {},
     "output_type": "execute_result"
    }
   ],
   "source": [
    "ages"
   ]
  },
  {
   "cell_type": "code",
   "execution_count": 141,
   "metadata": {},
   "outputs": [],
   "source": [
    "ages.sort()"
   ]
  },
  {
   "cell_type": "code",
   "execution_count": 142,
   "metadata": {},
   "outputs": [
    {
     "data": {
      "text/plain": [
       "[15, 32, 32, 37, 49, 56, 65, 87]"
      ]
     },
     "execution_count": 142,
     "metadata": {},
     "output_type": "execute_result"
    }
   ],
   "source": [
    "ages"
   ]
  },
  {
   "cell_type": "code",
   "execution_count": 143,
   "metadata": {},
   "outputs": [
    {
     "data": {
      "text/plain": [
       "True"
      ]
     },
     "execution_count": 143,
     "metadata": {},
     "output_type": "execute_result"
    }
   ],
   "source": [
    "15 < 32"
   ]
  },
  {
   "cell_type": "code",
   "execution_count": 147,
   "metadata": {},
   "outputs": [
    {
     "data": {
      "text/plain": [
       "['Daniela', 'Guilherme', 'Paulo']"
      ]
     },
     "execution_count": 147,
     "metadata": {},
     "output_type": "execute_result"
    }
   ],
   "source": [
    "names = [\"Guilherme\", \"Daniela\", \"Paulo\"]\n",
    "sorted(names)"
   ]
  },
  {
   "cell_type": "code",
   "execution_count": 148,
   "metadata": {},
   "outputs": [],
   "source": [
    "class SalaryAccount:\n",
    "    def __init__(self, code):\n",
    "        self._code = code\n",
    "        self._balance = 0\n",
    "\n",
    "    def __eq__(self, other):\n",
    "        if type(other) != SalaryAccount:\n",
    "            return False\n",
    "        \n",
    "        return self._code == other._code and self._balance == other._balance\n",
    "\n",
    "    def deposit(self, value):\n",
    "        self._balance += value\n",
    "\n",
    "    def __str__(self):\n",
    "        return f\"[>>Code {self._code} Balance {self._balance}<<]\""
   ]
  },
  {
   "cell_type": "code",
   "execution_count": 149,
   "metadata": {},
   "outputs": [],
   "source": [
    "guilherme_account = SalaryAccount(17)\n",
    "guilherme_account.deposit(500)\n",
    "\n",
    "daniela_account = SalaryAccount(3)\n",
    "daniela_account.deposit(1000)\n",
    "\n",
    "paulo_account = SalaryAccount(133)\n",
    "paulo_account.deposit(510)\n",
    "\n",
    "accounts = [guilherme_account, daniela_account, paulo_account]"
   ]
  },
  {
   "cell_type": "code",
   "execution_count": 151,
   "metadata": {},
   "outputs": [
    {
     "name": "stdout",
     "output_type": "stream",
     "text": [
      "[>>Code 17 Balance 500<<]\n",
      "[>>Code 3 Balance 1000<<]\n",
      "[>>Code 133 Balance 510<<]\n"
     ]
    }
   ],
   "source": [
    "for account in accounts:\n",
    "    print(account)"
   ]
  },
  {
   "cell_type": "code",
   "execution_count": 152,
   "metadata": {},
   "outputs": [
    {
     "ename": "TypeError",
     "evalue": "'<' not supported between instances of 'SalaryAccount' and 'SalaryAccount'",
     "output_type": "error",
     "traceback": [
      "\u001b[0;31m---------------------------------------------------------------------------\u001b[0m",
      "\u001b[0;31mTypeError\u001b[0m                                 Traceback (most recent call last)",
      "\u001b[1;32m/home/alvesgf16/it/alura/cursos/programacao/python/collections/introduction-to-collections.ipynb Cell 141\u001b[0m in \u001b[0;36m<cell line: 1>\u001b[0;34m()\u001b[0m\n\u001b[0;32m----> <a href='vscode-notebook-cell:/home/alvesgf16/it/alura/cursos/programacao/python/collections/introduction-to-collections.ipynb#Y301sZmlsZQ%3D%3D?line=0'>1</a>\u001b[0m \u001b[39msorted\u001b[39;49m(accounts)\n",
      "\u001b[0;31mTypeError\u001b[0m: '<' not supported between instances of 'SalaryAccount' and 'SalaryAccount'"
     ]
    }
   ],
   "source": [
    "sorted(accounts)"
   ]
  },
  {
   "cell_type": "code",
   "execution_count": 153,
   "metadata": {},
   "outputs": [
    {
     "name": "stdout",
     "output_type": "stream",
     "text": [
      "[>>Code 17 Balance 500<<]\n",
      "[>>Code 133 Balance 510<<]\n",
      "[>>Code 3 Balance 1000<<]\n"
     ]
    }
   ],
   "source": [
    "def extract_balance(account):\n",
    "    return account._balance\n",
    "\n",
    "for account in sorted(accounts, key=extract_balance):\n",
    "    print(account)"
   ]
  },
  {
   "cell_type": "code",
   "execution_count": 154,
   "metadata": {},
   "outputs": [
    {
     "name": "stdout",
     "output_type": "stream",
     "text": [
      "[>>Code 17 Balance 500<<]\n",
      "[>>Code 133 Balance 510<<]\n",
      "[>>Code 3 Balance 1000<<]\n"
     ]
    }
   ],
   "source": [
    "from operator import attrgetter\n",
    "\n",
    "for account in sorted(accounts, key=attrgetter(\"_balance\")):\n",
    "    print(account)"
   ]
  },
  {
   "cell_type": "code",
   "execution_count": 155,
   "metadata": {},
   "outputs": [
    {
     "ename": "TypeError",
     "evalue": "'<' not supported between instances of 'SalaryAccount' and 'SalaryAccount'",
     "output_type": "error",
     "traceback": [
      "\u001b[0;31m---------------------------------------------------------------------------\u001b[0m",
      "\u001b[0;31mTypeError\u001b[0m                                 Traceback (most recent call last)",
      "\u001b[1;32m/home/alvesgf16/it/alura/cursos/programacao/python/collections/introduction-to-collections.ipynb Cell 144\u001b[0m in \u001b[0;36m<cell line: 1>\u001b[0;34m()\u001b[0m\n\u001b[0;32m----> <a href='vscode-notebook-cell:/home/alvesgf16/it/alura/cursos/programacao/python/collections/introduction-to-collections.ipynb#Y304sZmlsZQ%3D%3D?line=0'>1</a>\u001b[0m guilherme_account \u001b[39m<\u001b[39;49m daniela_account\n",
      "\u001b[0;31mTypeError\u001b[0m: '<' not supported between instances of 'SalaryAccount' and 'SalaryAccount'"
     ]
    }
   ],
   "source": [
    "guilherme_account < daniela_account"
   ]
  },
  {
   "cell_type": "code",
   "execution_count": 156,
   "metadata": {},
   "outputs": [],
   "source": [
    "class SalaryAccount:\n",
    "    def __init__(self, code):\n",
    "        self._code = code\n",
    "        self._balance = 0\n",
    "\n",
    "    def __eq__(self, other):\n",
    "        if type(other) != SalaryAccount:\n",
    "            return False\n",
    "        \n",
    "        return self._code == other._code and self._balance == other._balance\n",
    "    \n",
    "    def __lt__(self, other):\n",
    "        return self._balance < other._balance\n",
    "\n",
    "    def deposit(self, value):\n",
    "        self._balance += value\n",
    "\n",
    "    def __str__(self):\n",
    "        return f\"[>>Code {self._code} Balance {self._balance}<<]\""
   ]
  },
  {
   "cell_type": "code",
   "execution_count": 157,
   "metadata": {},
   "outputs": [],
   "source": [
    "guilherme_account = SalaryAccount(17)\n",
    "guilherme_account.deposit(500)\n",
    "\n",
    "daniela_account = SalaryAccount(3)\n",
    "daniela_account.deposit(1000)\n",
    "\n",
    "paulo_account = SalaryAccount(133)\n",
    "paulo_account.deposit(510)\n",
    "\n",
    "accounts = [guilherme_account, daniela_account, paulo_account]"
   ]
  },
  {
   "cell_type": "code",
   "execution_count": 158,
   "metadata": {},
   "outputs": [
    {
     "data": {
      "text/plain": [
       "True"
      ]
     },
     "execution_count": 158,
     "metadata": {},
     "output_type": "execute_result"
    }
   ],
   "source": [
    "guilherme_account < daniela_account"
   ]
  },
  {
   "cell_type": "code",
   "execution_count": 159,
   "metadata": {},
   "outputs": [
    {
     "data": {
      "text/plain": [
       "False"
      ]
     },
     "execution_count": 159,
     "metadata": {},
     "output_type": "execute_result"
    }
   ],
   "source": [
    "guilherme_account > daniela_account"
   ]
  },
  {
   "cell_type": "code",
   "execution_count": 160,
   "metadata": {},
   "outputs": [
    {
     "name": "stdout",
     "output_type": "stream",
     "text": [
      "[>>Code 17 Balance 500<<]\n",
      "[>>Code 133 Balance 510<<]\n",
      "[>>Code 3 Balance 1000<<]\n"
     ]
    }
   ],
   "source": [
    "for account in sorted(accounts):\n",
    "    print(account)"
   ]
  },
  {
   "cell_type": "code",
   "execution_count": 161,
   "metadata": {},
   "outputs": [
    {
     "name": "stdout",
     "output_type": "stream",
     "text": [
      "[>>Code 3 Balance 1000<<]\n",
      "[>>Code 133 Balance 510<<]\n",
      "[>>Code 17 Balance 500<<]\n"
     ]
    }
   ],
   "source": [
    "for account in sorted(accounts, reverse=True):\n",
    "    print(account)"
   ]
  },
  {
   "cell_type": "code",
   "execution_count": 162,
   "metadata": {},
   "outputs": [],
   "source": [
    "guilherme_account = SalaryAccount(1700)\n",
    "guilherme_account.deposit(500)\n",
    "\n",
    "daniela_account = SalaryAccount(3)\n",
    "daniela_account.deposit(1000)\n",
    "\n",
    "paulo_account = SalaryAccount(133)\n",
    "paulo_account.deposit(500)\n",
    "\n",
    "accounts = [guilherme_account, daniela_account, paulo_account]"
   ]
  },
  {
   "cell_type": "code",
   "execution_count": 163,
   "metadata": {},
   "outputs": [
    {
     "name": "stdout",
     "output_type": "stream",
     "text": [
      "[>>Code 133 Balance 500<<]\n",
      "[>>Code 1700 Balance 500<<]\n",
      "[>>Code 3 Balance 1000<<]\n"
     ]
    }
   ],
   "source": [
    "for account in sorted(accounts, key=attrgetter(\"_balance\", \"_code\")):\n",
    "    print(account)"
   ]
  },
  {
   "cell_type": "code",
   "execution_count": 164,
   "metadata": {},
   "outputs": [],
   "source": [
    "guilherme_account = SalaryAccount(1700)\n",
    "guilherme_account.deposit(500)\n",
    "\n",
    "daniela_account = SalaryAccount(3)\n",
    "daniela_account.deposit(500)\n",
    "\n",
    "paulo_account = SalaryAccount(133)\n",
    "paulo_account.deposit(500)\n",
    "\n",
    "accounts = [guilherme_account, daniela_account, paulo_account]"
   ]
  },
  {
   "cell_type": "code",
   "execution_count": 165,
   "metadata": {},
   "outputs": [
    {
     "name": "stdout",
     "output_type": "stream",
     "text": [
      "[>>Code 3 Balance 500<<]\n",
      "[>>Code 133 Balance 500<<]\n",
      "[>>Code 1700 Balance 500<<]\n"
     ]
    }
   ],
   "source": [
    "for account in sorted(accounts, key=attrgetter(\"_balance\", \"_code\")):\n",
    "    print(account)"
   ]
  },
  {
   "cell_type": "code",
   "execution_count": 169,
   "metadata": {},
   "outputs": [],
   "source": [
    "class SalaryAccount:\n",
    "    def __init__(self, code):\n",
    "        self._code = code\n",
    "        self._balance = 0\n",
    "\n",
    "    def __eq__(self, other):\n",
    "        if type(other) != SalaryAccount:\n",
    "            return False\n",
    "        \n",
    "        return self._code == other._code and self._balance == other._balance\n",
    "    \n",
    "    def __lt__(self, other):\n",
    "        if (self._balance != other._balance):\n",
    "            return self._balance < other._balance\n",
    "        \n",
    "        return self._code < other._code\n",
    "\n",
    "    def deposit(self, value):\n",
    "        self._balance += value\n",
    "\n",
    "    def __str__(self):\n",
    "        return f\"[>>Code {self._code} Balance {self._balance}<<]\""
   ]
  },
  {
   "cell_type": "code",
   "execution_count": 172,
   "metadata": {},
   "outputs": [],
   "source": [
    "guilherme_account = SalaryAccount(1700)\n",
    "guilherme_account.deposit(500)\n",
    "\n",
    "daniela_account = SalaryAccount(3)\n",
    "daniela_account.deposit(500)\n",
    "\n",
    "paulo_account = SalaryAccount(133)\n",
    "paulo_account.deposit(500)\n",
    "\n",
    "accounts = [guilherme_account, daniela_account, paulo_account]"
   ]
  },
  {
   "cell_type": "code",
   "execution_count": 173,
   "metadata": {},
   "outputs": [
    {
     "name": "stdout",
     "output_type": "stream",
     "text": [
      "[>>Code 3 Balance 500<<]\n",
      "[>>Code 133 Balance 500<<]\n",
      "[>>Code 1700 Balance 500<<]\n"
     ]
    }
   ],
   "source": [
    "for account in sorted(accounts):\n",
    "    print(account)"
   ]
  },
  {
   "cell_type": "code",
   "execution_count": 174,
   "metadata": {},
   "outputs": [],
   "source": [
    "guilherme_account = SalaryAccount(1700)\n",
    "guilherme_account.deposit(500)\n",
    "\n",
    "daniela_account = SalaryAccount(3)\n",
    "daniela_account.deposit(1000)\n",
    "\n",
    "paulo_account = SalaryAccount(133)\n",
    "paulo_account.deposit(500)\n",
    "\n",
    "accounts = [guilherme_account, daniela_account, paulo_account]"
   ]
  },
  {
   "cell_type": "code",
   "execution_count": 175,
   "metadata": {},
   "outputs": [
    {
     "name": "stdout",
     "output_type": "stream",
     "text": [
      "[>>Code 133 Balance 500<<]\n",
      "[>>Code 1700 Balance 500<<]\n",
      "[>>Code 3 Balance 1000<<]\n"
     ]
    }
   ],
   "source": [
    "for account in sorted(accounts):\n",
    "    print(account)"
   ]
  },
  {
   "cell_type": "code",
   "execution_count": 176,
   "metadata": {},
   "outputs": [
    {
     "data": {
      "text/plain": [
       "True"
      ]
     },
     "execution_count": 176,
     "metadata": {},
     "output_type": "execute_result"
    }
   ],
   "source": [
    "guilherme_account < daniela_account"
   ]
  },
  {
   "cell_type": "code",
   "execution_count": 177,
   "metadata": {},
   "outputs": [
    {
     "ename": "TypeError",
     "evalue": "'<=' not supported between instances of 'SalaryAccount' and 'SalaryAccount'",
     "output_type": "error",
     "traceback": [
      "\u001b[0;31m---------------------------------------------------------------------------\u001b[0m",
      "\u001b[0;31mTypeError\u001b[0m                                 Traceback (most recent call last)",
      "\u001b[1;32m/home/alvesgf16/it/alura/cursos/programacao/python/collections/introduction-to-collections.ipynb Cell 161\u001b[0m in \u001b[0;36m<cell line: 1>\u001b[0;34m()\u001b[0m\n\u001b[0;32m----> <a href='vscode-notebook-cell:/home/alvesgf16/it/alura/cursos/programacao/python/collections/introduction-to-collections.ipynb#Y330sZmlsZQ%3D%3D?line=0'>1</a>\u001b[0m guilherme_account \u001b[39m<\u001b[39;49m\u001b[39m=\u001b[39;49m daniela_account\n",
      "\u001b[0;31mTypeError\u001b[0m: '<=' not supported between instances of 'SalaryAccount' and 'SalaryAccount'"
     ]
    }
   ],
   "source": [
    "guilherme_account <= daniela_account"
   ]
  },
  {
   "cell_type": "code",
   "execution_count": 178,
   "metadata": {},
   "outputs": [],
   "source": [
    "from functools import total_ordering\n",
    "\n",
    "@total_ordering\n",
    "class SalaryAccount:\n",
    "    def __init__(self, code):\n",
    "        self._code = code\n",
    "        self._balance = 0\n",
    "\n",
    "    def __eq__(self, other):\n",
    "        if type(other) != SalaryAccount:\n",
    "            return False\n",
    "        \n",
    "        return self._code == other._code and self._balance == other._balance\n",
    "    \n",
    "    def __lt__(self, other):\n",
    "        if (self._balance != other._balance):\n",
    "            return self._balance < other._balance\n",
    "        \n",
    "        return self._code < other._code\n",
    "        \n",
    "    def deposit(self, value):\n",
    "        self._balance += value\n",
    "\n",
    "    def __str__(self):\n",
    "        return f\"[>>Code {self._code} Balance {self._balance}<<]\""
   ]
  },
  {
   "cell_type": "code",
   "execution_count": 179,
   "metadata": {},
   "outputs": [],
   "source": [
    "guilherme_account = SalaryAccount(1700)\n",
    "guilherme_account.deposit(500)\n",
    "\n",
    "daniela_account = SalaryAccount(3)\n",
    "daniela_account.deposit(1000)\n",
    "\n",
    "paulo_account = SalaryAccount(133)\n",
    "paulo_account.deposit(500)\n",
    "\n",
    "accounts = [guilherme_account, daniela_account, paulo_account]"
   ]
  },
  {
   "cell_type": "code",
   "execution_count": 180,
   "metadata": {},
   "outputs": [
    {
     "data": {
      "text/plain": [
       "True"
      ]
     },
     "execution_count": 180,
     "metadata": {},
     "output_type": "execute_result"
    }
   ],
   "source": [
    "guilherme_account <= daniela_account"
   ]
  },
  {
   "cell_type": "code",
   "execution_count": 181,
   "metadata": {},
   "outputs": [
    {
     "data": {
      "text/plain": [
       "False"
      ]
     },
     "execution_count": 181,
     "metadata": {},
     "output_type": "execute_result"
    }
   ],
   "source": [
    "guilherme_account <= paulo_account"
   ]
  },
  {
   "cell_type": "code",
   "execution_count": 182,
   "metadata": {},
   "outputs": [
    {
     "data": {
      "text/plain": [
       "False"
      ]
     },
     "execution_count": 182,
     "metadata": {},
     "output_type": "execute_result"
    }
   ],
   "source": [
    "guilherme_account < guilherme_account"
   ]
  },
  {
   "cell_type": "code",
   "execution_count": 184,
   "metadata": {},
   "outputs": [
    {
     "data": {
      "text/plain": [
       "True"
      ]
     },
     "execution_count": 184,
     "metadata": {},
     "output_type": "execute_result"
    }
   ],
   "source": [
    "guilherme_account == guilherme_account"
   ]
  },
  {
   "cell_type": "code",
   "execution_count": 185,
   "metadata": {},
   "outputs": [
    {
     "data": {
      "text/plain": [
       "True"
      ]
     },
     "execution_count": 185,
     "metadata": {},
     "output_type": "execute_result"
    }
   ],
   "source": [
    "guilherme_account <= guilherme_account"
   ]
  },
  {
   "cell_type": "code",
   "execution_count": null,
   "metadata": {},
   "outputs": [],
   "source": []
  }
 ],
 "metadata": {
  "kernelspec": {
   "display_name": "Python 3.9.12 ('base')",
   "language": "python",
   "name": "python3"
  },
  "language_info": {
   "codemirror_mode": {
    "name": "ipython",
    "version": 3
   },
   "file_extension": ".py",
   "mimetype": "text/x-python",
   "name": "python",
   "nbconvert_exporter": "python",
   "pygments_lexer": "ipython3",
   "version": "3.9.12"
  },
  "orig_nbformat": 4,
  "vscode": {
   "interpreter": {
    "hash": "1593f17c92647641b920ee13aaea9e56ce4056e56490c5eab24f8b7a00e22578"
   }
  }
 },
 "nbformat": 4,
 "nbformat_minor": 2
}
